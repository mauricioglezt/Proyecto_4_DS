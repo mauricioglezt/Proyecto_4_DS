{
 "cells": [
  {
   "cell_type": "markdown",
   "metadata": {
    "colab_type": "text",
    "id": "38tA-ErIC4OD"
   },
   "source": [
    "# Proyecto: Análisis de mercado inmobiliario\n",
    "\n",
    "¡Bienvenido/a al primer proyecto de la carrera de Data Science de Acamica! \n",
    "\n",
    "El objetivo de este proyecto es reproducir los pasos que haría un/a Data Scientist cuando se enfrenta a una problemática real. Por eso, consta de tres secciones:\n",
    "* En la Parte 1, te presentamos la problemática sobre la cual vas a trabajar. En esta sección deberás decidir qué datos te ayudarán a trabajar en este problema y dónde puedes conseguirlos.\n",
    "* En la Parte 2 te proveemos de un dataset para abordar la problemática planteada. Deberás realizar un Análisis Exploratorio de Datos sobre este dataset.\n",
    "* En la Parte 3, deberás utilizar herramientas de Machine Learning para predecir la variable de interés.\n",
    "\n",
    "\n",
    "En este proyecto vas a trabajar con un dataset de propiedades en venta publicado en el portal [Properati](www.properati.com.ar).\n",
    "\n",
    "## Problema\n",
    "\n",
    "Recientemente te has incorporado al equipo de Datos de una gran inmobiliaria. La primera tarea que se te asigna es ayudar a los tasadores/as a valuar las propiedades, ya que es un proceso difícil y, a veces, subjetivo. Para ello, propones crear un modelo de Machine Learning que, dadas ciertas características de la propiedad, prediga su precio de venta.\n",
    "\n",
    "### 1. Pensando como un/a Data Scientist\n",
    "\n",
    "Responde la siguientes pregunta:\n",
    "1. ¿Qué datos crees que te ayudarían a trabajar en el problema?¿Por qué?\n",
    "\n",
    "**Importante**: NO deberás buscar esos datos, solamente justificar qué información crees que te ayudaría a resolver la problemática planteada."
   ]
  },
  {
   "cell_type": "markdown",
   "metadata": {},
   "source": [
    "Los datos que nos podrían ayudar a valuar las propiedades podrían ser: \n",
    "* La ubicación de la propiedad (existen zonas de la ciudad que son más caras).\n",
    "* La superficie que ocupa la propiedad, tanto terreno total como superficie construida.\n",
    "* El tipo de propiedad que es (terreno, casa, departamento, terreno rústico, terreno urbano).\n",
    "* Características con las que cuenta la casa (número de habitaciones, baños, zonas comúnes, etc).\n",
    "\n",
    "Estos datos nos podrían ayudar ya que dependiendo de estos datos se puede saber el valor de una propiedad, estas características le dan valor a la misma y dependen de ellas para saber en cuanto se pueden vender."
   ]
  },
  {
   "cell_type": "markdown",
   "metadata": {
    "colab_type": "text",
    "id": "oj6gbm-5C4OF"
   },
   "source": [
    "Los datos que nos podrían ayudar a valuar las propiedades podrían ser: \n",
    "* La ubicación de la propiedad (existen zonas de la ciudad que son más caras).\n",
    "* La superficie que ocupa la propiedad, tanto terreno total como superficie construida.\n",
    "* El tipo de propiedad que es (terreno, casa, departamento, terreno rústico, terreno urbano).\n",
    "* Características con las que cuenta la casa (número de habitaciones, baños, zonas comúnes, etc).\n",
    "\n",
    "Estos datos nos podrían ayudar ya que dependiendo de estos datos se puede saber el valor de una propiedad, estas características le dan valor a la misma y dependen de ellas para saber en cuanto se pueden vender."
   ]
  },
  {
   "cell_type": "markdown",
   "metadata": {
    "colab_type": "text",
    "id": "LvPBQzg5C4OI"
   },
   "source": [
    "### 2. Análisis Exploratorio de Datos\n",
    "\n",
    "En esta sección, debes realizar un Análisis Exploratorio de Datos sobre el dataset de propiedades de Properati. Es importante que respondas las siguientes preguntas durante el análisis:\n",
    "\n",
    "* ¿Qué tamaño tiene el dataset?¿Cuántas instancias y cuántas columnas?\n",
    "* ¿Cuántos valores faltantes hay en cada columna?\n",
    "* ¿Cómo es la distribución de cada variable? Deberás hacer histogramas para las variables numéricas y gráficos de barras para las variables categóricas.\n",
    "* ¿Cómo se relacionan las variables entre sí?¿Qué tipo de gráfico será conveniente para presentar esta información?\n",
    "* ¿Cómo están correlacionadas las variables numéricas?¿Qué tipo de gráfico será conveniente para presentar esta información?¿Cuáles serán los mejores predictores de la variable de interés?\n",
    "\n",
    "Vas a encontrar instrucciones para responder estas preguntas. Es importante aclarar que estas instrucciones corresponden al **mínimo entregable** que esperamos en la consigna.\n",
    "\n",
    "**Comentarios sobre el dataset** \n",
    "1. Nosotros ya hicimos un *curado* sobre el dataset que puedes descargar directamente de la página de Properati. Muchos de los pasos que hicimos para curar el conjunto de datos los veremos durante el Bloque 2 de la carrera.\n",
    "\n",
    "2. Si tienes dudas sobre qué representa alguna de las columnas, puedes consultar [aquí](https://www.properati.com.ar/data/). Notarás que algunas columnas fueron descartadas.\n",
    "\n",
    "3. `Capital Federal` refiere a la Ciudad de Buenos Aires. `Bs.As. G.B.A. Zona Norte`, `Bs.As. G.B.A. Zona Sur` y `Bs.As. G.B.A. Zona Oeste` son regiones que conforman el [Gran Buenos Aires](https://es.wikipedia.org/wiki/Gran_Buenos_Aires), un conjunto de ciudades que rodean a la Ciudad de Buenos Aires.\n",
    "\n",
    "\n",
    "#### 2.1 Desafío\n",
    "En el dataset provisto hay mucha información, más allá del problema planteado. Propone una pregunta que pueda ser respondida por el dataset e intenta responderla.¿Cuáles son los sesgos de la respuesta obtenida?(¿Cuán generalizable es la respuesta obtenida?)¿Necesitas información complementaria?¿Cómo la obtendrías?\n",
    "\n",
    "Por ejemplo: ¿Cuál es el barrio más caro de Buenos Aires? Probablemente puedas responder esta pregunta con este dataset. Pero podria ocurrir que la respuesta esté sesgada. ¿Cómo? Tal vez las propiedades más caras no se publican de forma online, sino que utilizan otro canal de venta."
   ]
  },
  {
   "cell_type": "markdown",
   "metadata": {
    "colab_type": "text",
    "id": "K2PLfIvLC4OK"
   },
   "source": [
    "0. Importa las librerías necesarias para trabajar en la consigna."
   ]
  },
  {
   "cell_type": "code",
   "execution_count": 2,
   "metadata": {
    "colab": {},
    "colab_type": "code",
    "id": "fCGVacN5C4OM"
   },
   "outputs": [],
   "source": [
    "import numpy as np\n",
    "import pandas as pd \n",
    "import matplotlib.pyplot as plt\n",
    "import seaborn as sns"
   ]
  },
  {
   "cell_type": "code",
   "execution_count": 3,
   "metadata": {
    "colab": {},
    "colab_type": "code",
    "id": "YL2eAd_tC4Oa"
   },
   "outputs": [
    {
     "data": {
      "text/plain": [
       "(146660, 19)"
      ]
     },
     "execution_count": 3,
     "metadata": {},
     "output_type": "execute_result"
    }
   ],
   "source": [
    "data_properati = pd.read_csv('DS_Proyecto_01_Datos_Properati.csv')\n",
    "data_properati.shape # Número de filas y columnas"
   ]
  },
  {
   "cell_type": "markdown",
   "metadata": {
    "colab_type": "text",
    "id": "5gWE6fwUC4OY"
   },
   "source": [
    "1. Carga el dataset usando las funcionalidades de Pandas. Imprimir cuántas filas y columnas tiene, y sus cinco primeras instancias."
   ]
  },
  {
   "cell_type": "code",
   "execution_count": 4,
   "metadata": {},
   "outputs": [
    {
     "data": {
      "text/html": [
       "<div>\n",
       "<style scoped>\n",
       "    .dataframe tbody tr th:only-of-type {\n",
       "        vertical-align: middle;\n",
       "    }\n",
       "\n",
       "    .dataframe tbody tr th {\n",
       "        vertical-align: top;\n",
       "    }\n",
       "\n",
       "    .dataframe thead th {\n",
       "        text-align: right;\n",
       "    }\n",
       "</style>\n",
       "<table border=\"1\" class=\"dataframe\">\n",
       "  <thead>\n",
       "    <tr style=\"text-align: right;\">\n",
       "      <th></th>\n",
       "      <th>start_date</th>\n",
       "      <th>end_date</th>\n",
       "      <th>created_on</th>\n",
       "      <th>lat</th>\n",
       "      <th>lon</th>\n",
       "      <th>l1</th>\n",
       "      <th>l2</th>\n",
       "      <th>l3</th>\n",
       "      <th>rooms</th>\n",
       "      <th>bedrooms</th>\n",
       "      <th>bathrooms</th>\n",
       "      <th>surface_total</th>\n",
       "      <th>surface_covered</th>\n",
       "      <th>price</th>\n",
       "      <th>currency</th>\n",
       "      <th>title</th>\n",
       "      <th>description</th>\n",
       "      <th>property_type</th>\n",
       "      <th>operation_type</th>\n",
       "    </tr>\n",
       "  </thead>\n",
       "  <tbody>\n",
       "    <tr>\n",
       "      <th>0</th>\n",
       "      <td>2019-10-17</td>\n",
       "      <td>2019-12-23</td>\n",
       "      <td>2019-10-17</td>\n",
       "      <td>-34.605880</td>\n",
       "      <td>-58.384949</td>\n",
       "      <td>Argentina</td>\n",
       "      <td>Capital Federal</td>\n",
       "      <td>San Cristobal</td>\n",
       "      <td>7.0</td>\n",
       "      <td>7.0</td>\n",
       "      <td>2.0</td>\n",
       "      <td>140.0</td>\n",
       "      <td>140.0</td>\n",
       "      <td>153000.0</td>\n",
       "      <td>USD</td>\n",
       "      <td>***Venta semipiso centro, ideal hostel*****</td>\n",
       "      <td>DESCRIPCION DE LA PROPIEDAD: Departamento de 1...</td>\n",
       "      <td>Departamento</td>\n",
       "      <td>Venta</td>\n",
       "    </tr>\n",
       "    <tr>\n",
       "      <th>1</th>\n",
       "      <td>2019-10-17</td>\n",
       "      <td>2019-11-21</td>\n",
       "      <td>2019-10-17</td>\n",
       "      <td>-34.624056</td>\n",
       "      <td>-58.412110</td>\n",
       "      <td>Argentina</td>\n",
       "      <td>Capital Federal</td>\n",
       "      <td>Boedo</td>\n",
       "      <td>2.0</td>\n",
       "      <td>1.0</td>\n",
       "      <td>2.0</td>\n",
       "      <td>70.0</td>\n",
       "      <td>58.0</td>\n",
       "      <td>159000.0</td>\n",
       "      <td>USD</td>\n",
       "      <td>Espectacular PH reciclado en Boedo sin expensas.</td>\n",
       "      <td>PH reciclado en Boedo a una cuadra de la plaz...</td>\n",
       "      <td>PH</td>\n",
       "      <td>Venta</td>\n",
       "    </tr>\n",
       "    <tr>\n",
       "      <th>2</th>\n",
       "      <td>2019-10-17</td>\n",
       "      <td>2019-11-01</td>\n",
       "      <td>2019-10-17</td>\n",
       "      <td>-34.593569</td>\n",
       "      <td>-58.427474</td>\n",
       "      <td>Argentina</td>\n",
       "      <td>Capital Federal</td>\n",
       "      <td>Palermo</td>\n",
       "      <td>2.0</td>\n",
       "      <td>1.0</td>\n",
       "      <td>1.0</td>\n",
       "      <td>45.0</td>\n",
       "      <td>45.0</td>\n",
       "      <td>125000.0</td>\n",
       "      <td>USD</td>\n",
       "      <td>Depto.tipo casa de 2 ambientes en Venta en Pal...</td>\n",
       "      <td>2 ambienets amplio , excelente estado , patio ...</td>\n",
       "      <td>PH</td>\n",
       "      <td>Venta</td>\n",
       "    </tr>\n",
       "    <tr>\n",
       "      <th>3</th>\n",
       "      <td>2019-10-17</td>\n",
       "      <td>2019-12-23</td>\n",
       "      <td>2019-10-17</td>\n",
       "      <td>-34.581294</td>\n",
       "      <td>-58.436754</td>\n",
       "      <td>Argentina</td>\n",
       "      <td>Capital Federal</td>\n",
       "      <td>Palermo</td>\n",
       "      <td>2.0</td>\n",
       "      <td>1.0</td>\n",
       "      <td>1.0</td>\n",
       "      <td>85.0</td>\n",
       "      <td>50.0</td>\n",
       "      <td>295000.0</td>\n",
       "      <td>USD</td>\n",
       "      <td>COSTA RICA 5800 / PALERMO HOLLYWOOD / VENTA PH...</td>\n",
       "      <td>HERMOSO PH EN PALERMO!!!2 AMBIENTES TOTALMENTE...</td>\n",
       "      <td>PH</td>\n",
       "      <td>Venta</td>\n",
       "    </tr>\n",
       "    <tr>\n",
       "      <th>4</th>\n",
       "      <td>2019-10-17</td>\n",
       "      <td>2020-03-11</td>\n",
       "      <td>2019-10-17</td>\n",
       "      <td>-34.914194</td>\n",
       "      <td>-57.938219</td>\n",
       "      <td>Argentina</td>\n",
       "      <td>Bs.As. G.B.A. Zona Sur</td>\n",
       "      <td>La Plata</td>\n",
       "      <td>2.0</td>\n",
       "      <td>1.0</td>\n",
       "      <td>1.0</td>\n",
       "      <td>50.0</td>\n",
       "      <td>35.0</td>\n",
       "      <td>40000.0</td>\n",
       "      <td>USD</td>\n",
       "      <td>58 entre 1 y 2  Venta de departamento en ph.1 ...</td>\n",
       "      <td>58 entre 1 y 2  Venta de departamento en PH. P...</td>\n",
       "      <td>PH</td>\n",
       "      <td>Venta</td>\n",
       "    </tr>\n",
       "  </tbody>\n",
       "</table>\n",
       "</div>"
      ],
      "text/plain": [
       "   start_date    end_date  created_on        lat        lon         l1  \\\n",
       "0  2019-10-17  2019-12-23  2019-10-17 -34.605880 -58.384949  Argentina   \n",
       "1  2019-10-17  2019-11-21  2019-10-17 -34.624056 -58.412110  Argentina   \n",
       "2  2019-10-17  2019-11-01  2019-10-17 -34.593569 -58.427474  Argentina   \n",
       "3  2019-10-17  2019-12-23  2019-10-17 -34.581294 -58.436754  Argentina   \n",
       "4  2019-10-17  2020-03-11  2019-10-17 -34.914194 -57.938219  Argentina   \n",
       "\n",
       "                       l2             l3  rooms  bedrooms  bathrooms  \\\n",
       "0         Capital Federal  San Cristobal    7.0       7.0        2.0   \n",
       "1         Capital Federal          Boedo    2.0       1.0        2.0   \n",
       "2         Capital Federal        Palermo    2.0       1.0        1.0   \n",
       "3         Capital Federal        Palermo    2.0       1.0        1.0   \n",
       "4  Bs.As. G.B.A. Zona Sur       La Plata    2.0       1.0        1.0   \n",
       "\n",
       "   surface_total  surface_covered     price currency  \\\n",
       "0          140.0            140.0  153000.0      USD   \n",
       "1           70.0             58.0  159000.0      USD   \n",
       "2           45.0             45.0  125000.0      USD   \n",
       "3           85.0             50.0  295000.0      USD   \n",
       "4           50.0             35.0   40000.0      USD   \n",
       "\n",
       "                                               title  \\\n",
       "0        ***Venta semipiso centro, ideal hostel*****   \n",
       "1   Espectacular PH reciclado en Boedo sin expensas.   \n",
       "2  Depto.tipo casa de 2 ambientes en Venta en Pal...   \n",
       "3  COSTA RICA 5800 / PALERMO HOLLYWOOD / VENTA PH...   \n",
       "4  58 entre 1 y 2  Venta de departamento en ph.1 ...   \n",
       "\n",
       "                                         description property_type  \\\n",
       "0  DESCRIPCION DE LA PROPIEDAD: Departamento de 1...  Departamento   \n",
       "1   PH reciclado en Boedo a una cuadra de la plaz...            PH   \n",
       "2  2 ambienets amplio , excelente estado , patio ...            PH   \n",
       "3  HERMOSO PH EN PALERMO!!!2 AMBIENTES TOTALMENTE...            PH   \n",
       "4  58 entre 1 y 2  Venta de departamento en PH. P...            PH   \n",
       "\n",
       "  operation_type  \n",
       "0          Venta  \n",
       "1          Venta  \n",
       "2          Venta  \n",
       "3          Venta  \n",
       "4          Venta  "
      ]
     },
     "execution_count": 4,
     "metadata": {},
     "output_type": "execute_result"
    }
   ],
   "source": [
    "data_properati.head() # Cinco primeras instancias"
   ]
  },
  {
   "cell_type": "markdown",
   "metadata": {
    "colab_type": "text",
    "id": "BJ-XiUsvC4Oh"
   },
   "source": [
    "2. **Valores Faltantes**: imprime en pantalla los nombres de las columnas y cuántos valores faltantes hay por columna."
   ]
  },
  {
   "cell_type": "code",
   "execution_count": 5,
   "metadata": {
    "colab": {},
    "colab_type": "code",
    "id": "1QletBbgC4Oi"
   },
   "outputs": [
    {
     "data": {
      "text/plain": [
       "Index(['start_date', 'end_date', 'created_on', 'lat', 'lon', 'l1', 'l2', 'l3',\n",
       "       'rooms', 'bedrooms', 'bathrooms', 'surface_total', 'surface_covered',\n",
       "       'price', 'currency', 'title', 'description', 'property_type',\n",
       "       'operation_type'],\n",
       "      dtype='object')"
      ]
     },
     "execution_count": 5,
     "metadata": {},
     "output_type": "execute_result"
    }
   ],
   "source": [
    "data_properati.columns[0:20] # Nombres de las columnas"
   ]
  },
  {
   "cell_type": "code",
   "execution_count": 6,
   "metadata": {},
   "outputs": [
    {
     "data": {
      "text/plain": [
       "start_date             0\n",
       "end_date               0\n",
       "created_on             0\n",
       "lat                 9925\n",
       "lon                 9959\n",
       "l1                     0\n",
       "l2                     0\n",
       "l3                     0\n",
       "rooms                  0\n",
       "bedrooms               0\n",
       "bathrooms           5957\n",
       "surface_total      20527\n",
       "surface_covered    21614\n",
       "price                  0\n",
       "currency               0\n",
       "title                  0\n",
       "description            0\n",
       "property_type          0\n",
       "operation_type         0\n",
       "dtype: int64"
      ]
     },
     "execution_count": 6,
     "metadata": {},
     "output_type": "execute_result"
    }
   ],
   "source": [
    "data_properati.isna().sum() # Valores faltantes por columna"
   ]
  },
  {
   "cell_type": "markdown",
   "metadata": {
    "colab_type": "text",
    "id": "fzDXC875C4Oo"
   },
   "source": [
    "3. **Tipos de propiedad**: ¿Cuántos tipos de propiedad hay publicados según este dataset?¿Cuántos instancias por cada tipo de propiedad hay en el dataset? Responde esta pregunta usando las funcionalidad de Pandas y con un gráfico apropiado de Seaborn. **Pistas**: Te puede ser útil googlear cómo rotar las etiquetas del eje x."
   ]
  },
  {
   "cell_type": "code",
   "execution_count": 7,
   "metadata": {
    "colab": {},
    "colab_type": "code",
    "id": "KvVxaqPlC4Oq"
   },
   "outputs": [
    {
     "name": "stdout",
     "output_type": "stream",
     "text": [
      "Tipos de propiedad: ['Departamento', 'PH', 'Casa', 'Lote', 'Casa de campo', 'Oficina', 'Otro', 'Local comercial', 'Cochera', 'Depósito']\n",
      "Número de tipos de propiedad:  10\n"
     ]
    }
   ],
   "source": [
    "data_tipos_propiedad = data_properati['property_type'].to_list()\n",
    "data_tipos_propiedad_1 = list(dict.fromkeys(data_tipos_propiedad))\n",
    "print('Tipos de propiedad:',data_tipos_propiedad_1)\n",
    "print('Número de tipos de propiedad: ', len(data_tipos_propiedad_1))"
   ]
  },
  {
   "cell_type": "code",
   "execution_count": 8,
   "metadata": {},
   "outputs": [
    {
     "name": "stdout",
     "output_type": "stream",
     "text": [
      "Departamento       107326\n",
      "Casa                21521\n",
      "PH                  14298\n",
      "Lote                 1312\n",
      "Oficina               658\n",
      "Otro                  374\n",
      "Local comercial       325\n",
      "Casa de campo         322\n",
      "Depósito              265\n",
      "Cochera               259\n",
      "Name: property_type, dtype: int64\n"
     ]
    }
   ],
   "source": [
    "import pandas as pd\n",
    "df = data_properati['property_type'].value_counts()\n",
    "print(df)"
   ]
  },
  {
   "cell_type": "code",
   "execution_count": 9,
   "metadata": {},
   "outputs": [
    {
     "data": {
      "text/plain": [
       "<matplotlib.axes._subplots.AxesSubplot at 0x29d1a938708>"
      ]
     },
     "execution_count": 9,
     "metadata": {},
     "output_type": "execute_result"
    },
    {
     "data": {
      "image/png": "[encoded data removed]",
      "text/plain": [
       "<Figure size 432x288 with 1 Axes>"
      ]
     },
     "metadata": {
      "needs_background": "light"
     },
     "output_type": "display_data"
    }
   ],
   "source": [
    "sns.countplot(data = data_properati, y = 'property_type')"
   ]
  },
  {
   "cell_type": "markdown",
   "metadata": {},
   "source": [
    "Se puede observar como el tipo de propiedad que más hay en el dataset es la instancia Departamento, seguido por Penthouse y en tercer lugar Casa. Los demás tipos de propiedades conforman sólo una pequeña fracción en comparación con los primeros tres tipos de propiedades que más abundan."
   ]
  },
  {
   "cell_type": "markdown",
   "metadata": {
    "colab_type": "text",
    "id": "zmHRGis7C4Ow"
   },
   "source": [
    "4. ¿De qué regiones son las publicaciones? Haz gráficos de barras para las variables `l2` y `l3`. Si te animas, puedes hacer los dos gráficos usando `subplot` de Matplotlib. Dale un tamaño apropiado a la figura para que ambos gráficos se visualicen correctamente."
   ]
  },
  {
   "cell_type": "code",
   "execution_count": 10,
   "metadata": {
    "colab": {},
    "colab_type": "code",
    "id": "JvrB-EaoC4Ox"
   },
   "outputs": [
    {
     "data": {
      "text/plain": [
       "<matplotlib.axes._subplots.AxesSubplot at 0x29d2069ee08>"
      ]
     },
     "execution_count": 10,
     "metadata": {},
     "output_type": "execute_result"
    },
    {
     "data": {
      "image/png": "[encoded data removed]",
      "text/plain": [
       "<Figure size 432x288 with 1 Axes>"
      ]
     },
     "metadata": {
      "needs_background": "light"
     },
     "output_type": "display_data"
    }
   ],
   "source": [
    "sns.countplot(data=data_properati, y= 'l2')"
   ]
  },
  {
   "cell_type": "markdown",
   "metadata": {},
   "source": [
    "Se observa que en la región de Capital Federal es donde más propiedades hay con un valor superior a 80000, mientras que la segunda región en donde hay más propiedades es Bs.As. G.B.A. Zona Norte"
   ]
  },
  {
   "cell_type": "code",
   "execution_count": 11,
   "metadata": {},
   "outputs": [
    {
     "data": {
      "text/plain": [
       "<matplotlib.axes._subplots.AxesSubplot at 0x29d214bebc8>"
      ]
     },
     "execution_count": 11,
     "metadata": {},
     "output_type": "execute_result"
    },
    {
     "data": {
      "image/png": "[encoded data removed]",
      "text/plain": [
       "<Figure size 1440x720 with 1 Axes>"
      ]
     },
     "metadata": {
      "needs_background": "light"
     },
     "output_type": "display_data"
    }
   ],
   "source": [
    "data_properati['l3'].value_counts().head(30).plot(kind='barh', figsize = (20,10))"
   ]
  },
  {
   "cell_type": "markdown",
   "metadata": {},
   "source": [
    "En el gráfico se observa que la ciudad que tiene más propiedades es la ciudad de Palermo con un valor de más de 12000, seguido de la ciudad Tigre y Almagro"
   ]
  },
  {
   "cell_type": "markdown",
   "metadata": {
    "colab_type": "text",
    "id": "XJCDt8ctC4O3"
   },
   "source": [
    "5. **Filtrando el Dataset:** A partir de los resultados del punto 3. y 4., selecciona las tres clases más abundantes de tipos de propiedad y la región con más propiedades publicadas. Crea un nuevo Data Frame con aquellas instancias que cumplen con esas condiciones e imprime su `shape`."
   ]
  },
  {
   "cell_type": "code",
   "execution_count": 12,
   "metadata": {
    "colab": {},
    "colab_type": "code",
    "id": "vbmACahUC4O6"
   },
   "outputs": [
    {
     "data": {
      "text/plain": [
       "(91485, 19)"
      ]
     },
     "execution_count": 12,
     "metadata": {},
     "output_type": "execute_result"
    }
   ],
   "source": [
    "data_properati_nuevo = data_properati[data_properati.l2 == 'Capital Federal']\n",
    "data_properati_nuevo_1 = data_properati_nuevo[data_properati_nuevo['property_type'] != 'Lote']\n",
    "data_properati_nuevo_2 = data_properati_nuevo_1[data_properati_nuevo_1['property_type'] != 'Casa de campo']\n",
    "data_properati_nuevo_3 = data_properati_nuevo_2[data_properati_nuevo_2['property_type'] != 'Oficina']\n",
    "data_properati_nuevo_4 = data_properati_nuevo_3[data_properati_nuevo_3['property_type'] != 'Otro']\n",
    "data_properati_nuevo_5 = data_properati_nuevo_4[data_properati_nuevo_4['property_type'] != 'Local comercial']\n",
    "data_properati_nuevo_6 = data_properati_nuevo_5[data_properati_nuevo_5['property_type'] != 'Cochera']\n",
    "data_properati_final = data_properati_nuevo_6[data_properati_nuevo_6['property_type'] != 'Depósito']\n",
    "data_properati_final.shape\n"
   ]
  },
  {
   "cell_type": "markdown",
   "metadata": {
    "colab_type": "text",
    "id": "bXSMm-aOC4O-"
   },
   "source": [
    "**Checkpoint:** deberías tener un dataset con 91485 instacias, 19 columnas.\n",
    "\n",
    "6. **Distribuciones y relaciones de a pares:** Estudia la distribución y las relaciones de a pares de las variables `rooms`, `bedrooms`, `bathrooms`, `surface_total`, `surface_covered`, `price` para cada tipo de propiedad. Para ello, ten en cuenta:\n",
    "    1. Obtiene estadísticos que te sirvan para tener una primera idea de los valores que abarcan estas variables. ¿Cuáles crees que toman valores que tal vez no tengan mucho sentido?\n",
    "    1. Algunas instancias tienen valores de superficie (`surface_total`) muy grandes y dificultan la correcta visualización. Estudia la distribución de esa variable y filtra por un valor razonable que te permita obtener gráficos comprensibles. Puede ser útil un boxplot para determinar un rango razonable.\n",
    "    1. Lo mismo ocurre con valores de superficie total muy chico.\n",
    "    1. Las propiedades no pueden tener `surface_covered` mayor a `surface_total`. Si eso sucede, debes filtrar esas instancias.\n",
    "    1. El rango de precios que toman las propiedades es muy amplio. Estudia la distribución de esa variable y filtra por un valor razonable que te permita obtener gráficos comprensibles. Puede ser útil un boxplot para determinar un rango razonable.\n",
    "    1. Una vez filtrado el dataset, puedes utilizar la función `pairplot` de Seaborn."
   ]
  },
  {
   "cell_type": "markdown",
   "metadata": {},
   "source": [
    "# Parte A Proyecto 2"
   ]
  },
  {
   "cell_type": "markdown",
   "metadata": {},
   "source": [
    "# Filtrado Departamento"
   ]
  },
  {
   "cell_type": "markdown",
   "metadata": {},
   "source": [
    "1.- Imputación de valores faltantes en variables surface_total y price en Departamentos"
   ]
  },
  {
   "cell_type": "code",
   "execution_count": 13,
   "metadata": {},
   "outputs": [
    {
     "data": {
      "text/html": [
       "<div>\n",
       "<style scoped>\n",
       "    .dataframe tbody tr th:only-of-type {\n",
       "        vertical-align: middle;\n",
       "    }\n",
       "\n",
       "    .dataframe tbody tr th {\n",
       "        vertical-align: top;\n",
       "    }\n",
       "\n",
       "    .dataframe thead th {\n",
       "        text-align: right;\n",
       "    }\n",
       "</style>\n",
       "<table border=\"1\" class=\"dataframe\">\n",
       "  <thead>\n",
       "    <tr style=\"text-align: right;\">\n",
       "      <th></th>\n",
       "      <th>start_date</th>\n",
       "      <th>end_date</th>\n",
       "      <th>created_on</th>\n",
       "      <th>lat</th>\n",
       "      <th>lon</th>\n",
       "      <th>l1</th>\n",
       "      <th>l2</th>\n",
       "      <th>l3</th>\n",
       "      <th>rooms</th>\n",
       "      <th>bedrooms</th>\n",
       "      <th>bathrooms</th>\n",
       "      <th>surface_total</th>\n",
       "      <th>surface_covered</th>\n",
       "      <th>price</th>\n",
       "      <th>currency</th>\n",
       "      <th>title</th>\n",
       "      <th>description</th>\n",
       "      <th>property_type</th>\n",
       "      <th>operation_type</th>\n",
       "    </tr>\n",
       "  </thead>\n",
       "  <tbody>\n",
       "    <tr>\n",
       "      <th>0</th>\n",
       "      <td>2019-10-17</td>\n",
       "      <td>2019-12-23</td>\n",
       "      <td>2019-10-17</td>\n",
       "      <td>-34.605880</td>\n",
       "      <td>-58.384949</td>\n",
       "      <td>Argentina</td>\n",
       "      <td>Capital Federal</td>\n",
       "      <td>San Cristobal</td>\n",
       "      <td>7.0</td>\n",
       "      <td>7.0</td>\n",
       "      <td>2.0</td>\n",
       "      <td>140.0</td>\n",
       "      <td>140.0</td>\n",
       "      <td>153000.0</td>\n",
       "      <td>USD</td>\n",
       "      <td>***Venta semipiso centro, ideal hostel*****</td>\n",
       "      <td>DESCRIPCION DE LA PROPIEDAD: Departamento de 1...</td>\n",
       "      <td>Departamento</td>\n",
       "      <td>Venta</td>\n",
       "    </tr>\n",
       "    <tr>\n",
       "      <th>1</th>\n",
       "      <td>2019-10-17</td>\n",
       "      <td>2019-11-21</td>\n",
       "      <td>2019-10-17</td>\n",
       "      <td>-34.624056</td>\n",
       "      <td>-58.412110</td>\n",
       "      <td>Argentina</td>\n",
       "      <td>Capital Federal</td>\n",
       "      <td>Boedo</td>\n",
       "      <td>2.0</td>\n",
       "      <td>1.0</td>\n",
       "      <td>2.0</td>\n",
       "      <td>70.0</td>\n",
       "      <td>58.0</td>\n",
       "      <td>159000.0</td>\n",
       "      <td>USD</td>\n",
       "      <td>Espectacular PH reciclado en Boedo sin expensas.</td>\n",
       "      <td>PH reciclado en Boedo a una cuadra de la plaz...</td>\n",
       "      <td>PH</td>\n",
       "      <td>Venta</td>\n",
       "    </tr>\n",
       "    <tr>\n",
       "      <th>2</th>\n",
       "      <td>2019-10-17</td>\n",
       "      <td>2019-11-01</td>\n",
       "      <td>2019-10-17</td>\n",
       "      <td>-34.593569</td>\n",
       "      <td>-58.427474</td>\n",
       "      <td>Argentina</td>\n",
       "      <td>Capital Federal</td>\n",
       "      <td>Palermo</td>\n",
       "      <td>2.0</td>\n",
       "      <td>1.0</td>\n",
       "      <td>1.0</td>\n",
       "      <td>45.0</td>\n",
       "      <td>45.0</td>\n",
       "      <td>125000.0</td>\n",
       "      <td>USD</td>\n",
       "      <td>Depto.tipo casa de 2 ambientes en Venta en Pal...</td>\n",
       "      <td>2 ambienets amplio , excelente estado , patio ...</td>\n",
       "      <td>PH</td>\n",
       "      <td>Venta</td>\n",
       "    </tr>\n",
       "    <tr>\n",
       "      <th>3</th>\n",
       "      <td>2019-10-17</td>\n",
       "      <td>2019-12-23</td>\n",
       "      <td>2019-10-17</td>\n",
       "      <td>-34.581294</td>\n",
       "      <td>-58.436754</td>\n",
       "      <td>Argentina</td>\n",
       "      <td>Capital Federal</td>\n",
       "      <td>Palermo</td>\n",
       "      <td>2.0</td>\n",
       "      <td>1.0</td>\n",
       "      <td>1.0</td>\n",
       "      <td>85.0</td>\n",
       "      <td>50.0</td>\n",
       "      <td>295000.0</td>\n",
       "      <td>USD</td>\n",
       "      <td>COSTA RICA 5800 / PALERMO HOLLYWOOD / VENTA PH...</td>\n",
       "      <td>HERMOSO PH EN PALERMO!!!2 AMBIENTES TOTALMENTE...</td>\n",
       "      <td>PH</td>\n",
       "      <td>Venta</td>\n",
       "    </tr>\n",
       "    <tr>\n",
       "      <th>5</th>\n",
       "      <td>2019-10-17</td>\n",
       "      <td>2019-11-01</td>\n",
       "      <td>2019-10-17</td>\n",
       "      <td>-34.593779</td>\n",
       "      <td>-58.441239</td>\n",
       "      <td>Argentina</td>\n",
       "      <td>Capital Federal</td>\n",
       "      <td>Villa Crespo</td>\n",
       "      <td>2.0</td>\n",
       "      <td>1.0</td>\n",
       "      <td>1.0</td>\n",
       "      <td>56.0</td>\n",
       "      <td>56.0</td>\n",
       "      <td>150000.0</td>\n",
       "      <td>USD</td>\n",
       "      <td>Depto.tipo casa de 2 ambientes en Venta en Vil...</td>\n",
       "      <td>Excelente ph solo 2 unidades, no paga expensas...</td>\n",
       "      <td>PH</td>\n",
       "      <td>Venta</td>\n",
       "    </tr>\n",
       "    <tr>\n",
       "      <th>...</th>\n",
       "      <td>...</td>\n",
       "      <td>...</td>\n",
       "      <td>...</td>\n",
       "      <td>...</td>\n",
       "      <td>...</td>\n",
       "      <td>...</td>\n",
       "      <td>...</td>\n",
       "      <td>...</td>\n",
       "      <td>...</td>\n",
       "      <td>...</td>\n",
       "      <td>...</td>\n",
       "      <td>...</td>\n",
       "      <td>...</td>\n",
       "      <td>...</td>\n",
       "      <td>...</td>\n",
       "      <td>...</td>\n",
       "      <td>...</td>\n",
       "      <td>...</td>\n",
       "      <td>...</td>\n",
       "    </tr>\n",
       "    <tr>\n",
       "      <th>146554</th>\n",
       "      <td>2019-07-31</td>\n",
       "      <td>2019-08-14</td>\n",
       "      <td>2019-07-31</td>\n",
       "      <td>-34.585355</td>\n",
       "      <td>-58.427194</td>\n",
       "      <td>Argentina</td>\n",
       "      <td>Capital Federal</td>\n",
       "      <td>Palermo</td>\n",
       "      <td>4.0</td>\n",
       "      <td>3.0</td>\n",
       "      <td>3.0</td>\n",
       "      <td>175.0</td>\n",
       "      <td>111.0</td>\n",
       "      <td>570000.0</td>\n",
       "      <td>USD</td>\n",
       "      <td>Soler 4900 - PH 4 Ambientes 100% Reciclado- Pa...</td>\n",
       "      <td>Espectacular Ph 4 Ambientes de excelente calid...</td>\n",
       "      <td>PH</td>\n",
       "      <td>Venta</td>\n",
       "    </tr>\n",
       "    <tr>\n",
       "      <th>146555</th>\n",
       "      <td>2019-07-31</td>\n",
       "      <td>2019-08-14</td>\n",
       "      <td>2019-07-31</td>\n",
       "      <td>-34.585355</td>\n",
       "      <td>-58.427194</td>\n",
       "      <td>Argentina</td>\n",
       "      <td>Capital Federal</td>\n",
       "      <td>Palermo</td>\n",
       "      <td>3.0</td>\n",
       "      <td>2.0</td>\n",
       "      <td>2.0</td>\n",
       "      <td>144.0</td>\n",
       "      <td>134.0</td>\n",
       "      <td>480000.0</td>\n",
       "      <td>USD</td>\n",
       "      <td>PH Reciclado a nuevo en pleno Palermo Hollywood!</td>\n",
       "      <td>Espectacular Ph 3 Ambientes de excelente calid...</td>\n",
       "      <td>PH</td>\n",
       "      <td>Venta</td>\n",
       "    </tr>\n",
       "    <tr>\n",
       "      <th>146556</th>\n",
       "      <td>2019-07-31</td>\n",
       "      <td>2020-01-17</td>\n",
       "      <td>2019-07-31</td>\n",
       "      <td>-34.584134</td>\n",
       "      <td>-58.436389</td>\n",
       "      <td>Argentina</td>\n",
       "      <td>Capital Federal</td>\n",
       "      <td>Palermo</td>\n",
       "      <td>4.0</td>\n",
       "      <td>2.0</td>\n",
       "      <td>2.0</td>\n",
       "      <td>317.0</td>\n",
       "      <td>143.0</td>\n",
       "      <td>530000.0</td>\n",
       "      <td>USD</td>\n",
       "      <td>Hermoso PH reciclado - 4 ambientes + Pileta + ...</td>\n",
       "      <td>Hermoso PH reciclado en Palermo, 143 m2 cubier...</td>\n",
       "      <td>PH</td>\n",
       "      <td>Venta</td>\n",
       "    </tr>\n",
       "    <tr>\n",
       "      <th>146557</th>\n",
       "      <td>2019-07-31</td>\n",
       "      <td>2019-08-23</td>\n",
       "      <td>2019-07-31</td>\n",
       "      <td>-34.583995</td>\n",
       "      <td>-58.417645</td>\n",
       "      <td>Argentina</td>\n",
       "      <td>Capital Federal</td>\n",
       "      <td>Palermo</td>\n",
       "      <td>3.0</td>\n",
       "      <td>2.0</td>\n",
       "      <td>2.0</td>\n",
       "      <td>145.0</td>\n",
       "      <td>145.0</td>\n",
       "      <td>420000.0</td>\n",
       "      <td>USD</td>\n",
       "      <td>Venta. Departamento. 3 Ambientes. 145m². Ampli...</td>\n",
       "      <td>CARACTERÍSTICAS- Ambientes: 3.- Superficie tot...</td>\n",
       "      <td>Departamento</td>\n",
       "      <td>Venta</td>\n",
       "    </tr>\n",
       "    <tr>\n",
       "      <th>146558</th>\n",
       "      <td>2019-07-31</td>\n",
       "      <td>2020-01-17</td>\n",
       "      <td>2019-07-31</td>\n",
       "      <td>NaN</td>\n",
       "      <td>NaN</td>\n",
       "      <td>Argentina</td>\n",
       "      <td>Capital Federal</td>\n",
       "      <td>Palermo</td>\n",
       "      <td>4.0</td>\n",
       "      <td>3.0</td>\n",
       "      <td>5.0</td>\n",
       "      <td>220.0</td>\n",
       "      <td>210.0</td>\n",
       "      <td>1470000.0</td>\n",
       "      <td>USD</td>\n",
       "      <td>TORRE DECO SEGUI ESPECTACULAR UNIDAD DE 4 AMB ...</td>\n",
       "      <td>EXCLUSIVO Torre Deco Seguí Oportunidad de Inve...</td>\n",
       "      <td>Departamento</td>\n",
       "      <td>Venta</td>\n",
       "    </tr>\n",
       "  </tbody>\n",
       "</table>\n",
       "<p>91485 rows × 19 columns</p>\n",
       "</div>"
      ],
      "text/plain": [
       "        start_date    end_date  created_on        lat        lon         l1  \\\n",
       "0       2019-10-17  2019-12-23  2019-10-17 -34.605880 -58.384949  Argentina   \n",
       "1       2019-10-17  2019-11-21  2019-10-17 -34.624056 -58.412110  Argentina   \n",
       "2       2019-10-17  2019-11-01  2019-10-17 -34.593569 -58.427474  Argentina   \n",
       "3       2019-10-17  2019-12-23  2019-10-17 -34.581294 -58.436754  Argentina   \n",
       "5       2019-10-17  2019-11-01  2019-10-17 -34.593779 -58.441239  Argentina   \n",
       "...            ...         ...         ...        ...        ...        ...   \n",
       "146554  2019-07-31  2019-08-14  2019-07-31 -34.585355 -58.427194  Argentina   \n",
       "146555  2019-07-31  2019-08-14  2019-07-31 -34.585355 -58.427194  Argentina   \n",
       "146556  2019-07-31  2020-01-17  2019-07-31 -34.584134 -58.436389  Argentina   \n",
       "146557  2019-07-31  2019-08-23  2019-07-31 -34.583995 -58.417645  Argentina   \n",
       "146558  2019-07-31  2020-01-17  2019-07-31        NaN        NaN  Argentina   \n",
       "\n",
       "                     l2             l3  rooms  bedrooms  bathrooms  \\\n",
       "0       Capital Federal  San Cristobal    7.0       7.0        2.0   \n",
       "1       Capital Federal          Boedo    2.0       1.0        2.0   \n",
       "2       Capital Federal        Palermo    2.0       1.0        1.0   \n",
       "3       Capital Federal        Palermo    2.0       1.0        1.0   \n",
       "5       Capital Federal   Villa Crespo    2.0       1.0        1.0   \n",
       "...                 ...            ...    ...       ...        ...   \n",
       "146554  Capital Federal        Palermo    4.0       3.0        3.0   \n",
       "146555  Capital Federal        Palermo    3.0       2.0        2.0   \n",
       "146556  Capital Federal        Palermo    4.0       2.0        2.0   \n",
       "146557  Capital Federal        Palermo    3.0       2.0        2.0   \n",
       "146558  Capital Federal        Palermo    4.0       3.0        5.0   \n",
       "\n",
       "        surface_total  surface_covered      price currency  \\\n",
       "0               140.0            140.0   153000.0      USD   \n",
       "1                70.0             58.0   159000.0      USD   \n",
       "2                45.0             45.0   125000.0      USD   \n",
       "3                85.0             50.0   295000.0      USD   \n",
       "5                56.0             56.0   150000.0      USD   \n",
       "...               ...              ...        ...      ...   \n",
       "146554          175.0            111.0   570000.0      USD   \n",
       "146555          144.0            134.0   480000.0      USD   \n",
       "146556          317.0            143.0   530000.0      USD   \n",
       "146557          145.0            145.0   420000.0      USD   \n",
       "146558          220.0            210.0  1470000.0      USD   \n",
       "\n",
       "                                                    title  \\\n",
       "0             ***Venta semipiso centro, ideal hostel*****   \n",
       "1        Espectacular PH reciclado en Boedo sin expensas.   \n",
       "2       Depto.tipo casa de 2 ambientes en Venta en Pal...   \n",
       "3       COSTA RICA 5800 / PALERMO HOLLYWOOD / VENTA PH...   \n",
       "5       Depto.tipo casa de 2 ambientes en Venta en Vil...   \n",
       "...                                                   ...   \n",
       "146554  Soler 4900 - PH 4 Ambientes 100% Reciclado- Pa...   \n",
       "146555  PH Reciclado a nuevo en pleno Palermo Hollywood!    \n",
       "146556  Hermoso PH reciclado - 4 ambientes + Pileta + ...   \n",
       "146557  Venta. Departamento. 3 Ambientes. 145m². Ampli...   \n",
       "146558  TORRE DECO SEGUI ESPECTACULAR UNIDAD DE 4 AMB ...   \n",
       "\n",
       "                                              description property_type  \\\n",
       "0       DESCRIPCION DE LA PROPIEDAD: Departamento de 1...  Departamento   \n",
       "1        PH reciclado en Boedo a una cuadra de la plaz...            PH   \n",
       "2       2 ambienets amplio , excelente estado , patio ...            PH   \n",
       "3       HERMOSO PH EN PALERMO!!!2 AMBIENTES TOTALMENTE...            PH   \n",
       "5       Excelente ph solo 2 unidades, no paga expensas...            PH   \n",
       "...                                                   ...           ...   \n",
       "146554  Espectacular Ph 4 Ambientes de excelente calid...            PH   \n",
       "146555  Espectacular Ph 3 Ambientes de excelente calid...            PH   \n",
       "146556  Hermoso PH reciclado en Palermo, 143 m2 cubier...            PH   \n",
       "146557  CARACTERÍSTICAS- Ambientes: 3.- Superficie tot...  Departamento   \n",
       "146558  EXCLUSIVO Torre Deco Seguí Oportunidad de Inve...  Departamento   \n",
       "\n",
       "       operation_type  \n",
       "0               Venta  \n",
       "1               Venta  \n",
       "2               Venta  \n",
       "3               Venta  \n",
       "5               Venta  \n",
       "...               ...  \n",
       "146554          Venta  \n",
       "146555          Venta  \n",
       "146556          Venta  \n",
       "146557          Venta  \n",
       "146558          Venta  \n",
       "\n",
       "[91485 rows x 19 columns]"
      ]
     },
     "execution_count": 13,
     "metadata": {},
     "output_type": "execute_result"
    }
   ],
   "source": [
    "data_properati_final"
   ]
  },
  {
   "cell_type": "code",
   "execution_count": 14,
   "metadata": {},
   "outputs": [
    {
     "data": {
      "text/plain": [
       "(69628, 19)"
      ]
     },
     "execution_count": 14,
     "metadata": {},
     "output_type": "execute_result"
    }
   ],
   "source": [
    "data_properati_departamento = data_properati_final[data_properati_final['property_type'] == 'Departamento']\n",
    "data_properati_departamento = data_properati_departamento[data_properati_departamento.surface_covered <= data_properati_departamento.surface_total]\n",
    "data_properati_departamento.shape\n"
   ]
  },
  {
   "cell_type": "code",
   "execution_count": 15,
   "metadata": {},
   "outputs": [
    {
     "data": {
      "text/plain": [
       "start_date            0\n",
       "end_date              0\n",
       "created_on            0\n",
       "lat                3986\n",
       "lon                3986\n",
       "l1                    0\n",
       "l2                    0\n",
       "l3                    0\n",
       "rooms                 0\n",
       "bedrooms              0\n",
       "bathrooms             0\n",
       "surface_total         0\n",
       "surface_covered       0\n",
       "price                 0\n",
       "currency              0\n",
       "title                 0\n",
       "description           0\n",
       "property_type         0\n",
       "operation_type        0\n",
       "dtype: int64"
      ]
     },
     "execution_count": 15,
     "metadata": {},
     "output_type": "execute_result"
    }
   ],
   "source": [
    "data_properati_departamento.surface_total.fillna(data_properati_departamento.surface_total.mean(),inplace = True)\n",
    "data_properati_departamento.surface_covered.fillna(data_properati_departamento.surface_covered.mean(),inplace = True)\n",
    "data_properati_departamento.bathrooms.fillna(data_properati_departamento.bathrooms.mean(),inplace = True)\n",
    "data_properati_departamento.isna().sum()"
   ]
  },
  {
   "cell_type": "markdown",
   "metadata": {},
   "source": [
    "2.- Detección y eliminación de outliers en variables surface_total y price"
   ]
  },
  {
   "cell_type": "code",
   "execution_count": 16,
   "metadata": {},
   "outputs": [
    {
     "name": "stdout",
     "output_type": "stream",
     "text": [
      "48.0 99.0 51.0 -28.5 175.5\n"
     ]
    }
   ],
   "source": [
    "# Variable surface_total\n",
    "q25,q75 = np.percentile(data_properati_departamento.surface_total.values, [25,75])\n",
    "iqr = q75 - q25\n",
    "minimo = q25 - 1.5*iqr\n",
    "maximo = q75 + 1.5*iqr\n",
    "print(q25,q75,iqr, minimo, maximo)"
   ]
  },
  {
   "cell_type": "code",
   "execution_count": 17,
   "metadata": {},
   "outputs": [
    {
     "name": "stdout",
     "output_type": "stream",
     "text": [
      "120000.0 275000.0 155000.0 -112500.0 507500.0\n"
     ]
    }
   ],
   "source": [
    "# Variable price\n",
    "q25,q75 = np.percentile(data_properati_departamento.price.values, [25,75])\n",
    "iqr = q75 - q25\n",
    "minimo = q25 - 1.5*iqr\n",
    "maximo = q75 + 1.5*iqr\n",
    "print(q25,q75,iqr, minimo, maximo)"
   ]
  },
  {
   "cell_type": "code",
   "execution_count": 18,
   "metadata": {},
   "outputs": [
    {
     "data": {
      "text/plain": [
       "(61781, 19)"
      ]
     },
     "execution_count": 18,
     "metadata": {},
     "output_type": "execute_result"
    }
   ],
   "source": [
    "data_properati_departamento= data_properati_departamento[(data_properati_departamento.surface_total <= 175.5) & (data_properati_departamento.price <= 507500)]\n",
    "data_properati_departamento.shape"
   ]
  },
  {
   "cell_type": "code",
   "execution_count": 19,
   "metadata": {},
   "outputs": [
    {
     "data": {
      "text/plain": [
       "<matplotlib.axes._subplots.AxesSubplot at 0x29d215a11c8>"
      ]
     },
     "execution_count": 19,
     "metadata": {},
     "output_type": "execute_result"
    },
    {
     "data": {
      "image/png": "[encoded data removed]",
      "text/plain": [
       "<Figure size 432x288 with 1 Axes>"
      ]
     },
     "metadata": {
      "needs_background": "light"
     },
     "output_type": "display_data"
    }
   ],
   "source": [
    "sns.boxplot(data_properati_departamento.price)"
   ]
  },
  {
   "cell_type": "code",
   "execution_count": 20,
   "metadata": {},
   "outputs": [
    {
     "data": {
      "text/plain": [
       "<matplotlib.axes._subplots.AxesSubplot at 0x29d22a5ba88>"
      ]
     },
     "execution_count": 20,
     "metadata": {},
     "output_type": "execute_result"
    },
    {
     "data": {
      "image/png": "[encoded data removed]",
      "text/plain": [
       "<Figure size 432x288 with 1 Axes>"
      ]
     },
     "metadata": {
      "needs_background": "light"
     },
     "output_type": "display_data"
    }
   ],
   "source": [
    "sns.boxplot(data_properati_departamento.surface_total)"
   ]
  },
  {
   "cell_type": "markdown",
   "metadata": {},
   "source": [
    "3.- Escalado de datos para variables surface_covered, surface_total, bathrooms, bedrooms y rooms"
   ]
  },
  {
   "cell_type": "code",
   "execution_count": 21,
   "metadata": {},
   "outputs": [],
   "source": [
    "valor_medio = data_properati_departamento.surface_covered.mean()\n",
    "std = data_properati_departamento.surface_covered.std()\n",
    "data_properati_departamento['surface_covered_resc'] = (data_properati_departamento.surface_covered- valor_medio)/std"
   ]
  },
  {
   "cell_type": "code",
   "execution_count": 22,
   "metadata": {},
   "outputs": [],
   "source": [
    "valor_medio = data_properati_departamento.surface_total.mean()\n",
    "std = data_properati_departamento.surface_total.std()\n",
    "data_properati_departamento['surface_total_resc'] = (data_properati_departamento.surface_total- valor_medio)/std"
   ]
  },
  {
   "cell_type": "code",
   "execution_count": 23,
   "metadata": {},
   "outputs": [],
   "source": [
    "valor_medio = data_properati_departamento.bathrooms.mean()\n",
    "std = data_properati_departamento.bathrooms.std()\n",
    "data_properati_departamento['bathrooms_resc'] = (data_properati_departamento.bathrooms- valor_medio)/std"
   ]
  },
  {
   "cell_type": "code",
   "execution_count": 24,
   "metadata": {},
   "outputs": [],
   "source": [
    "valor_medio = data_properati_departamento.rooms.mean()\n",
    "std = data_properati_departamento.rooms.std()\n",
    "data_properati_departamento['rooms_resc'] = (data_properati_departamento.rooms- valor_medio)/std"
   ]
  },
  {
   "cell_type": "code",
   "execution_count": 25,
   "metadata": {},
   "outputs": [],
   "source": [
    "valor_medio = data_properati_departamento.bedrooms.mean()\n",
    "std = data_properati_departamento.bedrooms.std()\n",
    "data_properati_departamento['bedrooms_resc'] = (data_properati_departamento.bedrooms- valor_medio)/std"
   ]
  },
  {
   "cell_type": "code",
   "execution_count": 26,
   "metadata": {},
   "outputs": [
    {
     "data": {
      "text/html": [
       "<div>\n",
       "<style scoped>\n",
       "    .dataframe tbody tr th:only-of-type {\n",
       "        vertical-align: middle;\n",
       "    }\n",
       "\n",
       "    .dataframe tbody tr th {\n",
       "        vertical-align: top;\n",
       "    }\n",
       "\n",
       "    .dataframe thead th {\n",
       "        text-align: right;\n",
       "    }\n",
       "</style>\n",
       "<table border=\"1\" class=\"dataframe\">\n",
       "  <thead>\n",
       "    <tr style=\"text-align: right;\">\n",
       "      <th></th>\n",
       "      <th>start_date</th>\n",
       "      <th>end_date</th>\n",
       "      <th>created_on</th>\n",
       "      <th>lat</th>\n",
       "      <th>lon</th>\n",
       "      <th>l1</th>\n",
       "      <th>l2</th>\n",
       "      <th>l3</th>\n",
       "      <th>rooms</th>\n",
       "      <th>bedrooms</th>\n",
       "      <th>...</th>\n",
       "      <th>currency</th>\n",
       "      <th>title</th>\n",
       "      <th>description</th>\n",
       "      <th>property_type</th>\n",
       "      <th>operation_type</th>\n",
       "      <th>surface_covered_resc</th>\n",
       "      <th>surface_total_resc</th>\n",
       "      <th>bathrooms_resc</th>\n",
       "      <th>rooms_resc</th>\n",
       "      <th>bedrooms_resc</th>\n",
       "    </tr>\n",
       "  </thead>\n",
       "  <tbody>\n",
       "    <tr>\n",
       "      <th>0</th>\n",
       "      <td>2019-10-17</td>\n",
       "      <td>2019-12-23</td>\n",
       "      <td>2019-10-17</td>\n",
       "      <td>-34.605880</td>\n",
       "      <td>-58.384949</td>\n",
       "      <td>Argentina</td>\n",
       "      <td>Capital Federal</td>\n",
       "      <td>San Cristobal</td>\n",
       "      <td>7.0</td>\n",
       "      <td>7.0</td>\n",
       "      <td>...</td>\n",
       "      <td>USD</td>\n",
       "      <td>***Venta semipiso centro, ideal hostel*****</td>\n",
       "      <td>DESCRIPCION DE LA PROPIEDAD: Departamento de 1...</td>\n",
       "      <td>Departamento</td>\n",
       "      <td>Venta</td>\n",
       "      <td>2.868484</td>\n",
       "      <td>2.307452</td>\n",
       "      <td>1.047478</td>\n",
       "      <td>4.381575</td>\n",
       "      <td>6.363010</td>\n",
       "    </tr>\n",
       "    <tr>\n",
       "      <th>11</th>\n",
       "      <td>2019-10-17</td>\n",
       "      <td>2019-10-26</td>\n",
       "      <td>2019-10-17</td>\n",
       "      <td>-34.603683</td>\n",
       "      <td>-58.381557</td>\n",
       "      <td>Argentina</td>\n",
       "      <td>Capital Federal</td>\n",
       "      <td>Boedo</td>\n",
       "      <td>2.0</td>\n",
       "      <td>1.0</td>\n",
       "      <td>...</td>\n",
       "      <td>USD</td>\n",
       "      <td>Venta Departamento en Boedo Capital Federal Ga...</td>\n",
       "      <td>Departamento en Venta, 2 ambientes espectacula...</td>\n",
       "      <td>Departamento</td>\n",
       "      <td>Venta</td>\n",
       "      <td>-0.104916</td>\n",
       "      <td>-0.029417</td>\n",
       "      <td>-0.581635</td>\n",
       "      <td>-0.660503</td>\n",
       "      <td>-0.879688</td>\n",
       "    </tr>\n",
       "    <tr>\n",
       "      <th>12</th>\n",
       "      <td>2019-10-17</td>\n",
       "      <td>2019-12-19</td>\n",
       "      <td>2019-10-17</td>\n",
       "      <td>-34.630349</td>\n",
       "      <td>-58.417223</td>\n",
       "      <td>Argentina</td>\n",
       "      <td>Capital Federal</td>\n",
       "      <td>Boedo</td>\n",
       "      <td>2.0</td>\n",
       "      <td>1.0</td>\n",
       "      <td>...</td>\n",
       "      <td>USD</td>\n",
       "      <td>Departamento dos ambientes tipo duplex - Venta...</td>\n",
       "      <td>Amplio dos ambientes en duplex, 7 años de anti...</td>\n",
       "      <td>Departamento</td>\n",
       "      <td>Venta</td>\n",
       "      <td>-0.655546</td>\n",
       "      <td>-0.613635</td>\n",
       "      <td>-0.581635</td>\n",
       "      <td>-0.660503</td>\n",
       "      <td>-0.879688</td>\n",
       "    </tr>\n",
       "    <tr>\n",
       "      <th>20</th>\n",
       "      <td>2019-10-17</td>\n",
       "      <td>2019-10-24</td>\n",
       "      <td>2019-10-17</td>\n",
       "      <td>-34.608246</td>\n",
       "      <td>-58.444262</td>\n",
       "      <td>Argentina</td>\n",
       "      <td>Capital Federal</td>\n",
       "      <td>Abasto</td>\n",
       "      <td>2.0</td>\n",
       "      <td>1.0</td>\n",
       "      <td>...</td>\n",
       "      <td>USD</td>\n",
       "      <td>Departamento de 2 ambientes en Venta en Abasto</td>\n",
       "      <td>Lindo monoambiente duplex, 31 m2, living-comed...</td>\n",
       "      <td>Departamento</td>\n",
       "      <td>Venta</td>\n",
       "      <td>-1.132758</td>\n",
       "      <td>-1.230309</td>\n",
       "      <td>-0.581635</td>\n",
       "      <td>-0.660503</td>\n",
       "      <td>-0.879688</td>\n",
       "    </tr>\n",
       "    <tr>\n",
       "      <th>21</th>\n",
       "      <td>2019-10-17</td>\n",
       "      <td>2019-10-28</td>\n",
       "      <td>2019-10-17</td>\n",
       "      <td>-34.603890</td>\n",
       "      <td>-58.410998</td>\n",
       "      <td>Argentina</td>\n",
       "      <td>Capital Federal</td>\n",
       "      <td>Abasto</td>\n",
       "      <td>1.0</td>\n",
       "      <td>1.0</td>\n",
       "      <td>...</td>\n",
       "      <td>USD</td>\n",
       "      <td>Monoambiente Vista Abierta</td>\n",
       "      <td>Excelente Inversion o 1era vivienda en renovad...</td>\n",
       "      <td>Departamento</td>\n",
       "      <td>Venta</td>\n",
       "      <td>-1.463136</td>\n",
       "      <td>-1.522417</td>\n",
       "      <td>-0.581635</td>\n",
       "      <td>-1.668919</td>\n",
       "      <td>-0.879688</td>\n",
       "    </tr>\n",
       "  </tbody>\n",
       "</table>\n",
       "<p>5 rows × 24 columns</p>\n",
       "</div>"
      ],
      "text/plain": [
       "    start_date    end_date  created_on        lat        lon         l1  \\\n",
       "0   2019-10-17  2019-12-23  2019-10-17 -34.605880 -58.384949  Argentina   \n",
       "11  2019-10-17  2019-10-26  2019-10-17 -34.603683 -58.381557  Argentina   \n",
       "12  2019-10-17  2019-12-19  2019-10-17 -34.630349 -58.417223  Argentina   \n",
       "20  2019-10-17  2019-10-24  2019-10-17 -34.608246 -58.444262  Argentina   \n",
       "21  2019-10-17  2019-10-28  2019-10-17 -34.603890 -58.410998  Argentina   \n",
       "\n",
       "                 l2             l3  rooms  bedrooms  ...  currency  \\\n",
       "0   Capital Federal  San Cristobal    7.0       7.0  ...       USD   \n",
       "11  Capital Federal          Boedo    2.0       1.0  ...       USD   \n",
       "12  Capital Federal          Boedo    2.0       1.0  ...       USD   \n",
       "20  Capital Federal         Abasto    2.0       1.0  ...       USD   \n",
       "21  Capital Federal         Abasto    1.0       1.0  ...       USD   \n",
       "\n",
       "                                                title  \\\n",
       "0         ***Venta semipiso centro, ideal hostel*****   \n",
       "11  Venta Departamento en Boedo Capital Federal Ga...   \n",
       "12  Departamento dos ambientes tipo duplex - Venta...   \n",
       "20     Departamento de 2 ambientes en Venta en Abasto   \n",
       "21                         Monoambiente Vista Abierta   \n",
       "\n",
       "                                          description  property_type  \\\n",
       "0   DESCRIPCION DE LA PROPIEDAD: Departamento de 1...   Departamento   \n",
       "11  Departamento en Venta, 2 ambientes espectacula...   Departamento   \n",
       "12  Amplio dos ambientes en duplex, 7 años de anti...   Departamento   \n",
       "20  Lindo monoambiente duplex, 31 m2, living-comed...   Departamento   \n",
       "21  Excelente Inversion o 1era vivienda en renovad...   Departamento   \n",
       "\n",
       "   operation_type surface_covered_resc surface_total_resc bathrooms_resc  \\\n",
       "0           Venta             2.868484           2.307452       1.047478   \n",
       "11          Venta            -0.104916          -0.029417      -0.581635   \n",
       "12          Venta            -0.655546          -0.613635      -0.581635   \n",
       "20          Venta            -1.132758          -1.230309      -0.581635   \n",
       "21          Venta            -1.463136          -1.522417      -0.581635   \n",
       "\n",
       "   rooms_resc  bedrooms_resc  \n",
       "0    4.381575       6.363010  \n",
       "11  -0.660503      -0.879688  \n",
       "12  -0.660503      -0.879688  \n",
       "20  -0.660503      -0.879688  \n",
       "21  -1.668919      -0.879688  \n",
       "\n",
       "[5 rows x 24 columns]"
      ]
     },
     "execution_count": 26,
     "metadata": {},
     "output_type": "execute_result"
    }
   ],
   "source": [
    "data_properati_departamento.head()"
   ]
  },
  {
   "cell_type": "markdown",
   "metadata": {},
   "source": [
    "# Filtrado de casa"
   ]
  },
  {
   "cell_type": "markdown",
   "metadata": {},
   "source": [
    "1.- Imputación de valores faltantes en variables surface_total y price en Casa"
   ]
  },
  {
   "cell_type": "code",
   "execution_count": 27,
   "metadata": {},
   "outputs": [
    {
     "data": {
      "text/plain": [
       "(2036, 19)"
      ]
     },
     "execution_count": 27,
     "metadata": {},
     "output_type": "execute_result"
    }
   ],
   "source": [
    "data_properati_casa = data_properati_final[data_properati_final['property_type'] == 'Casa']\n",
    "data_properati_casa = data_properati_casa[data_properati_casa.surface_covered <= data_properati_casa.surface_total]\n",
    "data_properati_casa.shape"
   ]
  },
  {
   "cell_type": "code",
   "execution_count": 28,
   "metadata": {},
   "outputs": [
    {
     "data": {
      "text/plain": [
       "start_date          0\n",
       "end_date            0\n",
       "created_on          0\n",
       "lat                35\n",
       "lon                35\n",
       "l1                  0\n",
       "l2                  0\n",
       "l3                  0\n",
       "rooms               0\n",
       "bedrooms            0\n",
       "bathrooms           0\n",
       "surface_total       0\n",
       "surface_covered     0\n",
       "price               0\n",
       "currency            0\n",
       "title               0\n",
       "description         0\n",
       "property_type       0\n",
       "operation_type      0\n",
       "dtype: int64"
      ]
     },
     "execution_count": 28,
     "metadata": {},
     "output_type": "execute_result"
    }
   ],
   "source": [
    "data_properati_casa.surface_total.fillna(data_properati_casa.surface_total.mean(),inplace = True)\n",
    "data_properati_casa.surface_covered.fillna(data_properati_casa.surface_covered.mean(),inplace = True)\n",
    "data_properati_casa.bathrooms.fillna(data_properati_casa.bathrooms.mean(),inplace = True)\n",
    "data_properati_casa.isna().sum()"
   ]
  },
  {
   "cell_type": "markdown",
   "metadata": {},
   "source": [
    "2.- Detección y eliminación de outliers"
   ]
  },
  {
   "cell_type": "code",
   "execution_count": 29,
   "metadata": {},
   "outputs": [
    {
     "name": "stdout",
     "output_type": "stream",
     "text": [
      "168.0 338.5 170.5 -87.75 594.25\n"
     ]
    }
   ],
   "source": [
    "# Variable surface_total\n",
    "q25,q75 = np.percentile(data_properati_casa.surface_total.values, [25,75])\n",
    "iqr = q75 - q25\n",
    "minimo = q25 - 1.5*iqr\n",
    "maximo = q75 + 1.5*iqr\n",
    "print(q25,q75,iqr, minimo, maximo)"
   ]
  },
  {
   "cell_type": "code",
   "execution_count": 30,
   "metadata": {},
   "outputs": [
    {
     "name": "stdout",
     "output_type": "stream",
     "text": [
      "240000.0 480000.0 240000.0 -120000.0 840000.0\n"
     ]
    }
   ],
   "source": [
    "# Variable price\n",
    "q25,q75 = np.percentile(data_properati_casa.price.values, [25,75])\n",
    "iqr = q75 - q25\n",
    "minimo = q25 - 1.5*iqr\n",
    "maximo = q75 + 1.5*iqr\n",
    "print(q25,q75,iqr, minimo, maximo)"
   ]
  },
  {
   "cell_type": "code",
   "execution_count": 31,
   "metadata": {},
   "outputs": [
    {
     "data": {
      "text/plain": [
       "(1888, 19)"
      ]
     },
     "execution_count": 31,
     "metadata": {},
     "output_type": "execute_result"
    }
   ],
   "source": [
    "data_properati_casa = data_properati_casa[(data_properati_casa.surface_total <= 594.25) & (data_properati_casa.price <= 840000)]\n",
    "data_properati_casa.shape"
   ]
  },
  {
   "cell_type": "code",
   "execution_count": 32,
   "metadata": {},
   "outputs": [
    {
     "data": {
      "text/plain": [
       "<matplotlib.axes._subplots.AxesSubplot at 0x29d22b16c88>"
      ]
     },
     "execution_count": 32,
     "metadata": {},
     "output_type": "execute_result"
    },
    {
     "data": {
      "image/png": "[encoded data removed]",
      "text/plain": [
       "<Figure size 432x288 with 1 Axes>"
      ]
     },
     "metadata": {
      "needs_background": "light"
     },
     "output_type": "display_data"
    }
   ],
   "source": [
    "sns.boxplot(data_properati_casa.surface_total)"
   ]
  },
  {
   "cell_type": "code",
   "execution_count": 33,
   "metadata": {},
   "outputs": [
    {
     "data": {
      "text/plain": [
       "<matplotlib.axes._subplots.AxesSubplot at 0x29d285c2248>"
      ]
     },
     "execution_count": 33,
     "metadata": {},
     "output_type": "execute_result"
    },
    {
     "data": {
      "image/png": "[encoded data removed]",
      "text/plain": [
       "<Figure size 432x288 with 1 Axes>"
      ]
     },
     "metadata": {
      "needs_background": "light"
     },
     "output_type": "display_data"
    }
   ],
   "source": [
    "sns.boxplot(data_properati_casa.price)"
   ]
  },
  {
   "cell_type": "markdown",
   "metadata": {},
   "source": [
    "3.- Escalado de datos para variables surface_covered, surface_total, bathrooms, bedrooms y rooms"
   ]
  },
  {
   "cell_type": "code",
   "execution_count": 34,
   "metadata": {},
   "outputs": [],
   "source": [
    "valor_medio = data_properati_casa.surface_covered.mean()\n",
    "std = data_properati_casa.surface_covered.std()\n",
    "data_properati_casa['surface_covered_resc'] = (data_properati_casa.surface_covered- valor_medio)/std"
   ]
  },
  {
   "cell_type": "code",
   "execution_count": 35,
   "metadata": {},
   "outputs": [],
   "source": [
    "valor_medio = data_properati_casa.surface_total.mean()\n",
    "std = data_properati_casa.surface_total.std()\n",
    "data_properati_casa['surface_total_resc'] = (data_properati_casa.surface_total- valor_medio)/std"
   ]
  },
  {
   "cell_type": "code",
   "execution_count": 36,
   "metadata": {},
   "outputs": [],
   "source": [
    "valor_medio = data_properati_casa.bathrooms.mean()\n",
    "std = data_properati_casa.bathrooms.std()\n",
    "data_properati_casa['bathrooms_resc'] = (data_properati_casa.bathrooms- valor_medio)/std"
   ]
  },
  {
   "cell_type": "code",
   "execution_count": 37,
   "metadata": {},
   "outputs": [],
   "source": [
    "valor_medio = data_properati_casa.bedrooms.mean()\n",
    "std = data_properati_casa.bedrooms.std()\n",
    "data_properati_casa['bedrooms_resc'] = (data_properati_casa.bedrooms- valor_medio)/std"
   ]
  },
  {
   "cell_type": "code",
   "execution_count": 38,
   "metadata": {},
   "outputs": [],
   "source": [
    "valor_medio = data_properati_casa.rooms.mean()\n",
    "std = data_properati_casa.rooms.std()\n",
    "data_properati_casa['casa_resc'] = (data_properati_casa.rooms- valor_medio)/std"
   ]
  },
  {
   "cell_type": "code",
   "execution_count": 39,
   "metadata": {},
   "outputs": [
    {
     "data": {
      "text/html": [
       "<div>\n",
       "<style scoped>\n",
       "    .dataframe tbody tr th:only-of-type {\n",
       "        vertical-align: middle;\n",
       "    }\n",
       "\n",
       "    .dataframe tbody tr th {\n",
       "        vertical-align: top;\n",
       "    }\n",
       "\n",
       "    .dataframe thead th {\n",
       "        text-align: right;\n",
       "    }\n",
       "</style>\n",
       "<table border=\"1\" class=\"dataframe\">\n",
       "  <thead>\n",
       "    <tr style=\"text-align: right;\">\n",
       "      <th></th>\n",
       "      <th>start_date</th>\n",
       "      <th>end_date</th>\n",
       "      <th>created_on</th>\n",
       "      <th>lat</th>\n",
       "      <th>lon</th>\n",
       "      <th>l1</th>\n",
       "      <th>l2</th>\n",
       "      <th>l3</th>\n",
       "      <th>rooms</th>\n",
       "      <th>bedrooms</th>\n",
       "      <th>...</th>\n",
       "      <th>currency</th>\n",
       "      <th>title</th>\n",
       "      <th>description</th>\n",
       "      <th>property_type</th>\n",
       "      <th>operation_type</th>\n",
       "      <th>surface_covered_resc</th>\n",
       "      <th>surface_total_resc</th>\n",
       "      <th>bathrooms_resc</th>\n",
       "      <th>bedrooms_resc</th>\n",
       "      <th>casa_resc</th>\n",
       "    </tr>\n",
       "  </thead>\n",
       "  <tbody>\n",
       "    <tr>\n",
       "      <th>336</th>\n",
       "      <td>2019-03-04</td>\n",
       "      <td>2019-06-09</td>\n",
       "      <td>2019-03-04</td>\n",
       "      <td>-34.620739</td>\n",
       "      <td>-58.394437</td>\n",
       "      <td>Argentina</td>\n",
       "      <td>Capital Federal</td>\n",
       "      <td>San Cristobal</td>\n",
       "      <td>3.0</td>\n",
       "      <td>1.0</td>\n",
       "      <td>...</td>\n",
       "      <td>USD</td>\n",
       "      <td>Venta casa esquina Carlos Calvo y Sarandí</td>\n",
       "      <td>Corredor Responsable: Cristian Arnal Ponti - C...</td>\n",
       "      <td>Casa</td>\n",
       "      <td>Venta</td>\n",
       "      <td>-0.786038</td>\n",
       "      <td>-1.173645</td>\n",
       "      <td>-0.215585</td>\n",
       "      <td>-2.012666</td>\n",
       "      <td>-1.191292</td>\n",
       "    </tr>\n",
       "    <tr>\n",
       "      <th>384</th>\n",
       "      <td>2019-03-04</td>\n",
       "      <td>2019-08-17</td>\n",
       "      <td>2019-03-04</td>\n",
       "      <td>-34.650923</td>\n",
       "      <td>-58.489653</td>\n",
       "      <td>Argentina</td>\n",
       "      <td>Capital Federal</td>\n",
       "      <td>Mataderos</td>\n",
       "      <td>3.0</td>\n",
       "      <td>2.0</td>\n",
       "      <td>...</td>\n",
       "      <td>USD</td>\n",
       "      <td>CASA EN VENTA MATADERO COCHERA Y TERRAZA</td>\n",
       "      <td>Corredor Responsable: Martin Macagno - CUCICBA...</td>\n",
       "      <td>Casa</td>\n",
       "      <td>Venta</td>\n",
       "      <td>-0.740377</td>\n",
       "      <td>-0.676690</td>\n",
       "      <td>-1.267466</td>\n",
       "      <td>-1.165417</td>\n",
       "      <td>-1.191292</td>\n",
       "    </tr>\n",
       "    <tr>\n",
       "      <th>385</th>\n",
       "      <td>2019-03-04</td>\n",
       "      <td>2019-06-17</td>\n",
       "      <td>2019-03-04</td>\n",
       "      <td>-34.587854</td>\n",
       "      <td>-58.497227</td>\n",
       "      <td>Argentina</td>\n",
       "      <td>Capital Federal</td>\n",
       "      <td>Villa Pueyrredón</td>\n",
       "      <td>3.0</td>\n",
       "      <td>2.0</td>\n",
       "      <td>...</td>\n",
       "      <td>USD</td>\n",
       "      <td>Casa tipo Duplex 2 plantas excelente esquina.</td>\n",
       "      <td>Corredor Responsable: Ariel Champanier - C.U.C...</td>\n",
       "      <td>Casa</td>\n",
       "      <td>Venta</td>\n",
       "      <td>-1.333975</td>\n",
       "      <td>-1.580244</td>\n",
       "      <td>-1.267466</td>\n",
       "      <td>-1.165417</td>\n",
       "      <td>-1.191292</td>\n",
       "    </tr>\n",
       "    <tr>\n",
       "      <th>454</th>\n",
       "      <td>2019-03-04</td>\n",
       "      <td>2019-03-13</td>\n",
       "      <td>2019-03-04</td>\n",
       "      <td>-34.653948</td>\n",
       "      <td>-58.472884</td>\n",
       "      <td>Argentina</td>\n",
       "      <td>Capital Federal</td>\n",
       "      <td>Parque Avellaneda</td>\n",
       "      <td>6.0</td>\n",
       "      <td>5.0</td>\n",
       "      <td>...</td>\n",
       "      <td>USD</td>\n",
       "      <td>Venta  Casa,  PARQUE AVELLANEDA 6 amb y cochera</td>\n",
       "      <td>Corredor Responsable: Martin Macagno - CUCICBA...</td>\n",
       "      <td>Casa</td>\n",
       "      <td>Venta</td>\n",
       "      <td>0.047282</td>\n",
       "      <td>-0.324303</td>\n",
       "      <td>-1.267466</td>\n",
       "      <td>1.376332</td>\n",
       "      <td>0.808553</td>\n",
       "    </tr>\n",
       "    <tr>\n",
       "      <th>625</th>\n",
       "      <td>2019-04-25</td>\n",
       "      <td>2019-09-14</td>\n",
       "      <td>2019-04-25</td>\n",
       "      <td>-34.580777</td>\n",
       "      <td>-58.442538</td>\n",
       "      <td>Argentina</td>\n",
       "      <td>Capital Federal</td>\n",
       "      <td>Saavedra</td>\n",
       "      <td>2.0</td>\n",
       "      <td>1.0</td>\n",
       "      <td>...</td>\n",
       "      <td>USD</td>\n",
       "      <td>TRIPLEX TIPO CASA - EN  POZO - ANTICIPO Y CUOTAS</td>\n",
       "      <td>Corredor Responsable: Jorge Salafia - CUCICBA ...</td>\n",
       "      <td>Casa</td>\n",
       "      <td>Venta</td>\n",
       "      <td>-0.877361</td>\n",
       "      <td>-0.857401</td>\n",
       "      <td>-1.267466</td>\n",
       "      <td>-2.012666</td>\n",
       "      <td>-1.857908</td>\n",
       "    </tr>\n",
       "  </tbody>\n",
       "</table>\n",
       "<p>5 rows × 24 columns</p>\n",
       "</div>"
      ],
      "text/plain": [
       "     start_date    end_date  created_on        lat        lon         l1  \\\n",
       "336  2019-03-04  2019-06-09  2019-03-04 -34.620739 -58.394437  Argentina   \n",
       "384  2019-03-04  2019-08-17  2019-03-04 -34.650923 -58.489653  Argentina   \n",
       "385  2019-03-04  2019-06-17  2019-03-04 -34.587854 -58.497227  Argentina   \n",
       "454  2019-03-04  2019-03-13  2019-03-04 -34.653948 -58.472884  Argentina   \n",
       "625  2019-04-25  2019-09-14  2019-04-25 -34.580777 -58.442538  Argentina   \n",
       "\n",
       "                  l2                 l3  rooms  bedrooms  ...  currency  \\\n",
       "336  Capital Federal      San Cristobal    3.0       1.0  ...       USD   \n",
       "384  Capital Federal          Mataderos    3.0       2.0  ...       USD   \n",
       "385  Capital Federal   Villa Pueyrredón    3.0       2.0  ...       USD   \n",
       "454  Capital Federal  Parque Avellaneda    6.0       5.0  ...       USD   \n",
       "625  Capital Federal           Saavedra    2.0       1.0  ...       USD   \n",
       "\n",
       "                                                title  \\\n",
       "336         Venta casa esquina Carlos Calvo y Sarandí   \n",
       "384          CASA EN VENTA MATADERO COCHERA Y TERRAZA   \n",
       "385     Casa tipo Duplex 2 plantas excelente esquina.   \n",
       "454   Venta  Casa,  PARQUE AVELLANEDA 6 amb y cochera   \n",
       "625  TRIPLEX TIPO CASA - EN  POZO - ANTICIPO Y CUOTAS   \n",
       "\n",
       "                                           description  property_type  \\\n",
       "336  Corredor Responsable: Cristian Arnal Ponti - C...           Casa   \n",
       "384  Corredor Responsable: Martin Macagno - CUCICBA...           Casa   \n",
       "385  Corredor Responsable: Ariel Champanier - C.U.C...           Casa   \n",
       "454  Corredor Responsable: Martin Macagno - CUCICBA...           Casa   \n",
       "625  Corredor Responsable: Jorge Salafia - CUCICBA ...           Casa   \n",
       "\n",
       "    operation_type surface_covered_resc surface_total_resc bathrooms_resc  \\\n",
       "336          Venta            -0.786038          -1.173645      -0.215585   \n",
       "384          Venta            -0.740377          -0.676690      -1.267466   \n",
       "385          Venta            -1.333975          -1.580244      -1.267466   \n",
       "454          Venta             0.047282          -0.324303      -1.267466   \n",
       "625          Venta            -0.877361          -0.857401      -1.267466   \n",
       "\n",
       "    bedrooms_resc  casa_resc  \n",
       "336     -2.012666  -1.191292  \n",
       "384     -1.165417  -1.191292  \n",
       "385     -1.165417  -1.191292  \n",
       "454      1.376332   0.808553  \n",
       "625     -2.012666  -1.857908  \n",
       "\n",
       "[5 rows x 24 columns]"
      ]
     },
     "execution_count": 39,
     "metadata": {},
     "output_type": "execute_result"
    }
   ],
   "source": [
    "data_properati_casa.head()"
   ]
  },
  {
   "cell_type": "markdown",
   "metadata": {},
   "source": [
    "# Filtrado de PH"
   ]
  },
  {
   "cell_type": "markdown",
   "metadata": {},
   "source": [
    "1.- Imputación de valores faltantes en variables surface_total y price en PH"
   ]
  },
  {
   "cell_type": "code",
   "execution_count": 40,
   "metadata": {},
   "outputs": [
    {
     "data": {
      "text/plain": [
       "(9627, 19)"
      ]
     },
     "execution_count": 40,
     "metadata": {},
     "output_type": "execute_result"
    }
   ],
   "source": [
    "data_properati_PH = data_properati_final[data_properati_final['property_type'] == 'PH']\n",
    "data_properati_PH = data_properati_PH[data_properati_PH.surface_covered <= data_properati_PH.surface_total]\n",
    "data_properati_PH.shape"
   ]
  },
  {
   "cell_type": "code",
   "execution_count": 41,
   "metadata": {},
   "outputs": [
    {
     "data": {
      "text/plain": [
       "start_date           0\n",
       "end_date             0\n",
       "created_on           0\n",
       "lat                230\n",
       "lon                230\n",
       "l1                   0\n",
       "l2                   0\n",
       "l3                   0\n",
       "rooms                0\n",
       "bedrooms             0\n",
       "bathrooms            0\n",
       "surface_total        0\n",
       "surface_covered      0\n",
       "price                0\n",
       "currency             0\n",
       "title                0\n",
       "description          0\n",
       "property_type        0\n",
       "operation_type       0\n",
       "dtype: int64"
      ]
     },
     "execution_count": 41,
     "metadata": {},
     "output_type": "execute_result"
    }
   ],
   "source": [
    "data_properati_PH.surface_total.fillna(data_properati_PH.surface_total.mean(),inplace = True)\n",
    "data_properati_PH.surface_covered.fillna(data_properati_PH.surface_covered.mean(),inplace = True)\n",
    "data_properati_PH.bathrooms.fillna(data_properati_PH.bathrooms.mean(),inplace = True)\n",
    "data_properati_PH.isna().sum()"
   ]
  },
  {
   "cell_type": "markdown",
   "metadata": {},
   "source": [
    "2.- Detección y eliminación de outliers"
   ]
  },
  {
   "cell_type": "code",
   "execution_count": 42,
   "metadata": {},
   "outputs": [
    {
     "name": "stdout",
     "output_type": "stream",
     "text": [
      "70.0 152.0 82.0 -53.0 275.0\n"
     ]
    }
   ],
   "source": [
    "# Variable surface_total\n",
    "q25,q75 = np.percentile(data_properati_PH.surface_total.values, [25,75])\n",
    "iqr = q75 - q25\n",
    "minimo = q25 - 1.5*iqr\n",
    "maximo = q75 + 1.5*iqr\n",
    "print(q25,q75,iqr, minimo, maximo)"
   ]
  },
  {
   "cell_type": "code",
   "execution_count": 43,
   "metadata": {},
   "outputs": [
    {
     "name": "stdout",
     "output_type": "stream",
     "text": [
      "136000.0 270000.0 134000.0 -65000.0 471000.0\n"
     ]
    }
   ],
   "source": [
    "# Variable price\n",
    "q25,q75 = np.percentile(data_properati_PH.price.values, [25,75])\n",
    "iqr = q75 - q25\n",
    "minimo = q25 - 1.5*iqr\n",
    "maximo = q75 + 1.5*iqr\n",
    "print(q25,q75,iqr, minimo, maximo)"
   ]
  },
  {
   "cell_type": "code",
   "execution_count": 44,
   "metadata": {},
   "outputs": [
    {
     "data": {
      "text/plain": [
       "(8765, 19)"
      ]
     },
     "execution_count": 44,
     "metadata": {},
     "output_type": "execute_result"
    }
   ],
   "source": [
    "data_properati_PH = data_properati_PH[(data_properati_PH.surface_total <= 275) & (data_properati_PH.price <= 471000)]\n",
    "data_properati_PH.shape"
   ]
  },
  {
   "cell_type": "code",
   "execution_count": 45,
   "metadata": {},
   "outputs": [
    {
     "data": {
      "text/plain": [
       "<matplotlib.axes._subplots.AxesSubplot at 0x29d3499e248>"
      ]
     },
     "execution_count": 45,
     "metadata": {},
     "output_type": "execute_result"
    },
    {
     "data": {
      "image/png": "[encoded data removed]",
      "text/plain": [
       "<Figure size 432x288 with 1 Axes>"
      ]
     },
     "metadata": {
      "needs_background": "light"
     },
     "output_type": "display_data"
    }
   ],
   "source": [
    "sns.boxplot(data_properati_PH.surface_total)"
   ]
  },
  {
   "cell_type": "code",
   "execution_count": 46,
   "metadata": {},
   "outputs": [
    {
     "data": {
      "text/plain": [
       "<matplotlib.axes._subplots.AxesSubplot at 0x29d349e53c8>"
      ]
     },
     "execution_count": 46,
     "metadata": {},
     "output_type": "execute_result"
    },
    {
     "data": {
      "image/png": "[encoded data removed]",
      "text/plain": [
       "<Figure size 432x288 with 1 Axes>"
      ]
     },
     "metadata": {
      "needs_background": "light"
     },
     "output_type": "display_data"
    }
   ],
   "source": [
    "sns.boxplot(data_properati_PH.price)"
   ]
  },
  {
   "cell_type": "markdown",
   "metadata": {},
   "source": [
    "3.- Escalado de datos para variables surface_covered, surface_total, bathrooms, bedrooms y rooms"
   ]
  },
  {
   "cell_type": "code",
   "execution_count": 47,
   "metadata": {},
   "outputs": [],
   "source": [
    "valor_medio = data_properati_PH.surface_covered.mean()\n",
    "std = data_properati_PH.surface_covered.std()\n",
    "data_properati_PH['surface_covered_resc'] = (data_properati_PH.surface_covered- valor_medio)/std"
   ]
  },
  {
   "cell_type": "code",
   "execution_count": 48,
   "metadata": {},
   "outputs": [],
   "source": [
    "valor_medio = data_properati_PH.surface_total.mean()\n",
    "std = data_properati_PH.surface_total.std()\n",
    "data_properati_PH['surface_total_resc'] = (data_properati_PH.surface_total- valor_medio)/std"
   ]
  },
  {
   "cell_type": "code",
   "execution_count": 49,
   "metadata": {},
   "outputs": [],
   "source": [
    "valor_medio = data_properati_PH.bathrooms.mean()\n",
    "std = data_properati_PH.bathrooms.std()\n",
    "data_properati_PH['bathrooms_resc'] = (data_properati_PH.bathrooms- valor_medio)/std"
   ]
  },
  {
   "cell_type": "code",
   "execution_count": 50,
   "metadata": {},
   "outputs": [],
   "source": [
    "valor_medio = data_properati_PH.bedrooms.mean()\n",
    "std = data_properati_PH.bedrooms.std()\n",
    "data_properati_PH['bedrooms_resc'] = (data_properati_PH.bedrooms- valor_medio)/std"
   ]
  },
  {
   "cell_type": "code",
   "execution_count": 51,
   "metadata": {},
   "outputs": [],
   "source": [
    "valor_medio = data_properati_PH.rooms.mean()\n",
    "std = data_properati_PH.rooms.std()\n",
    "data_properati_PH['rooms_resc'] = (data_properati_PH.rooms- valor_medio)/std"
   ]
  },
  {
   "cell_type": "code",
   "execution_count": 52,
   "metadata": {},
   "outputs": [
    {
     "data": {
      "text/html": [
       "<div>\n",
       "<style scoped>\n",
       "    .dataframe tbody tr th:only-of-type {\n",
       "        vertical-align: middle;\n",
       "    }\n",
       "\n",
       "    .dataframe tbody tr th {\n",
       "        vertical-align: top;\n",
       "    }\n",
       "\n",
       "    .dataframe thead th {\n",
       "        text-align: right;\n",
       "    }\n",
       "</style>\n",
       "<table border=\"1\" class=\"dataframe\">\n",
       "  <thead>\n",
       "    <tr style=\"text-align: right;\">\n",
       "      <th></th>\n",
       "      <th>start_date</th>\n",
       "      <th>end_date</th>\n",
       "      <th>created_on</th>\n",
       "      <th>lat</th>\n",
       "      <th>lon</th>\n",
       "      <th>l1</th>\n",
       "      <th>l2</th>\n",
       "      <th>l3</th>\n",
       "      <th>rooms</th>\n",
       "      <th>bedrooms</th>\n",
       "      <th>...</th>\n",
       "      <th>currency</th>\n",
       "      <th>title</th>\n",
       "      <th>description</th>\n",
       "      <th>property_type</th>\n",
       "      <th>operation_type</th>\n",
       "      <th>surface_covered_resc</th>\n",
       "      <th>surface_total_resc</th>\n",
       "      <th>bathrooms_resc</th>\n",
       "      <th>bedrooms_resc</th>\n",
       "      <th>rooms_resc</th>\n",
       "    </tr>\n",
       "  </thead>\n",
       "  <tbody>\n",
       "    <tr>\n",
       "      <th>1</th>\n",
       "      <td>2019-10-17</td>\n",
       "      <td>2019-11-21</td>\n",
       "      <td>2019-10-17</td>\n",
       "      <td>-34.624056</td>\n",
       "      <td>-58.412110</td>\n",
       "      <td>Argentina</td>\n",
       "      <td>Capital Federal</td>\n",
       "      <td>Boedo</td>\n",
       "      <td>2.0</td>\n",
       "      <td>1.0</td>\n",
       "      <td>...</td>\n",
       "      <td>USD</td>\n",
       "      <td>Espectacular PH reciclado en Boedo sin expensas.</td>\n",
       "      <td>PH reciclado en Boedo a una cuadra de la plaz...</td>\n",
       "      <td>PH</td>\n",
       "      <td>Venta</td>\n",
       "      <td>-0.740877</td>\n",
       "      <td>-0.736502</td>\n",
       "      <td>0.769145</td>\n",
       "      <td>-1.298632</td>\n",
       "      <td>-1.23603</td>\n",
       "    </tr>\n",
       "    <tr>\n",
       "      <th>2</th>\n",
       "      <td>2019-10-17</td>\n",
       "      <td>2019-11-01</td>\n",
       "      <td>2019-10-17</td>\n",
       "      <td>-34.593569</td>\n",
       "      <td>-58.427474</td>\n",
       "      <td>Argentina</td>\n",
       "      <td>Capital Federal</td>\n",
       "      <td>Palermo</td>\n",
       "      <td>2.0</td>\n",
       "      <td>1.0</td>\n",
       "      <td>...</td>\n",
       "      <td>USD</td>\n",
       "      <td>Depto.tipo casa de 2 ambientes en Venta en Pal...</td>\n",
       "      <td>2 ambienets amplio , excelente estado , patio ...</td>\n",
       "      <td>PH</td>\n",
       "      <td>Venta</td>\n",
       "      <td>-1.069868</td>\n",
       "      <td>-1.221789</td>\n",
       "      <td>-0.708553</td>\n",
       "      <td>-1.298632</td>\n",
       "      <td>-1.23603</td>\n",
       "    </tr>\n",
       "    <tr>\n",
       "      <th>3</th>\n",
       "      <td>2019-10-17</td>\n",
       "      <td>2019-12-23</td>\n",
       "      <td>2019-10-17</td>\n",
       "      <td>-34.581294</td>\n",
       "      <td>-58.436754</td>\n",
       "      <td>Argentina</td>\n",
       "      <td>Capital Federal</td>\n",
       "      <td>Palermo</td>\n",
       "      <td>2.0</td>\n",
       "      <td>1.0</td>\n",
       "      <td>...</td>\n",
       "      <td>USD</td>\n",
       "      <td>COSTA RICA 5800 / PALERMO HOLLYWOOD / VENTA PH...</td>\n",
       "      <td>HERMOSO PH EN PALERMO!!!2 AMBIENTES TOTALMENTE...</td>\n",
       "      <td>PH</td>\n",
       "      <td>Venta</td>\n",
       "      <td>-0.943333</td>\n",
       "      <td>-0.445330</td>\n",
       "      <td>-0.708553</td>\n",
       "      <td>-1.298632</td>\n",
       "      <td>-1.23603</td>\n",
       "    </tr>\n",
       "    <tr>\n",
       "      <th>5</th>\n",
       "      <td>2019-10-17</td>\n",
       "      <td>2019-11-01</td>\n",
       "      <td>2019-10-17</td>\n",
       "      <td>-34.593779</td>\n",
       "      <td>-58.441239</td>\n",
       "      <td>Argentina</td>\n",
       "      <td>Capital Federal</td>\n",
       "      <td>Villa Crespo</td>\n",
       "      <td>2.0</td>\n",
       "      <td>1.0</td>\n",
       "      <td>...</td>\n",
       "      <td>USD</td>\n",
       "      <td>Depto.tipo casa de 2 ambientes en Venta en Vil...</td>\n",
       "      <td>Excelente ph solo 2 unidades, no paga expensas...</td>\n",
       "      <td>PH</td>\n",
       "      <td>Venta</td>\n",
       "      <td>-0.791491</td>\n",
       "      <td>-1.008262</td>\n",
       "      <td>-0.708553</td>\n",
       "      <td>-1.298632</td>\n",
       "      <td>-1.23603</td>\n",
       "    </tr>\n",
       "    <tr>\n",
       "      <th>6</th>\n",
       "      <td>2019-10-17</td>\n",
       "      <td>2019-10-31</td>\n",
       "      <td>2019-10-17</td>\n",
       "      <td>-34.600988</td>\n",
       "      <td>-58.433061</td>\n",
       "      <td>Argentina</td>\n",
       "      <td>Capital Federal</td>\n",
       "      <td>Villa Crespo</td>\n",
       "      <td>2.0</td>\n",
       "      <td>1.0</td>\n",
       "      <td>...</td>\n",
       "      <td>USD</td>\n",
       "      <td>Depto.tipo casa de 2 ambientes en Venta en Vil...</td>\n",
       "      <td>Muy lindo PH, con terraza propia, 96m2! por es...</td>\n",
       "      <td>PH</td>\n",
       "      <td>Venta</td>\n",
       "      <td>-0.437192</td>\n",
       "      <td>-0.736502</td>\n",
       "      <td>-0.708553</td>\n",
       "      <td>-1.298632</td>\n",
       "      <td>-1.23603</td>\n",
       "    </tr>\n",
       "  </tbody>\n",
       "</table>\n",
       "<p>5 rows × 24 columns</p>\n",
       "</div>"
      ],
      "text/plain": [
       "   start_date    end_date  created_on        lat        lon         l1  \\\n",
       "1  2019-10-17  2019-11-21  2019-10-17 -34.624056 -58.412110  Argentina   \n",
       "2  2019-10-17  2019-11-01  2019-10-17 -34.593569 -58.427474  Argentina   \n",
       "3  2019-10-17  2019-12-23  2019-10-17 -34.581294 -58.436754  Argentina   \n",
       "5  2019-10-17  2019-11-01  2019-10-17 -34.593779 -58.441239  Argentina   \n",
       "6  2019-10-17  2019-10-31  2019-10-17 -34.600988 -58.433061  Argentina   \n",
       "\n",
       "                l2            l3  rooms  bedrooms  ...  currency  \\\n",
       "1  Capital Federal         Boedo    2.0       1.0  ...       USD   \n",
       "2  Capital Federal       Palermo    2.0       1.0  ...       USD   \n",
       "3  Capital Federal       Palermo    2.0       1.0  ...       USD   \n",
       "5  Capital Federal  Villa Crespo    2.0       1.0  ...       USD   \n",
       "6  Capital Federal  Villa Crespo    2.0       1.0  ...       USD   \n",
       "\n",
       "                                               title  \\\n",
       "1   Espectacular PH reciclado en Boedo sin expensas.   \n",
       "2  Depto.tipo casa de 2 ambientes en Venta en Pal...   \n",
       "3  COSTA RICA 5800 / PALERMO HOLLYWOOD / VENTA PH...   \n",
       "5  Depto.tipo casa de 2 ambientes en Venta en Vil...   \n",
       "6  Depto.tipo casa de 2 ambientes en Venta en Vil...   \n",
       "\n",
       "                                         description  property_type  \\\n",
       "1   PH reciclado en Boedo a una cuadra de la plaz...             PH   \n",
       "2  2 ambienets amplio , excelente estado , patio ...             PH   \n",
       "3  HERMOSO PH EN PALERMO!!!2 AMBIENTES TOTALMENTE...             PH   \n",
       "5  Excelente ph solo 2 unidades, no paga expensas...             PH   \n",
       "6  Muy lindo PH, con terraza propia, 96m2! por es...             PH   \n",
       "\n",
       "  operation_type surface_covered_resc surface_total_resc bathrooms_resc  \\\n",
       "1          Venta            -0.740877          -0.736502       0.769145   \n",
       "2          Venta            -1.069868          -1.221789      -0.708553   \n",
       "3          Venta            -0.943333          -0.445330      -0.708553   \n",
       "5          Venta            -0.791491          -1.008262      -0.708553   \n",
       "6          Venta            -0.437192          -0.736502      -0.708553   \n",
       "\n",
       "  bedrooms_resc  rooms_resc  \n",
       "1     -1.298632    -1.23603  \n",
       "2     -1.298632    -1.23603  \n",
       "3     -1.298632    -1.23603  \n",
       "5     -1.298632    -1.23603  \n",
       "6     -1.298632    -1.23603  \n",
       "\n",
       "[5 rows x 24 columns]"
      ]
     },
     "execution_count": 52,
     "metadata": {},
     "output_type": "execute_result"
    }
   ],
   "source": [
    "data_properati_PH.head()"
   ]
  },
  {
   "cell_type": "markdown",
   "metadata": {
    "colab_type": "text",
    "id": "B2EMvGFoC4PF"
   },
   "source": [
    "6. **Correlaciones:** Estudia la correlación entre las variables `rooms`, `bedrooms`, `bathrooms`, `surface_total`, `surface_covered`, `price`. ¿Cuáles son las mejores variables para predecir el precio?¿Qué diferencias encuentras según cada tipo de propiedad?"
   ]
  },
  {
   "cell_type": "markdown",
   "metadata": {},
   "source": [
    "# Correlación Departamentos"
   ]
  },
  {
   "cell_type": "code",
   "execution_count": 53,
   "metadata": {},
   "outputs": [
    {
     "data": {
      "text/html": [
       "<div>\n",
       "<style scoped>\n",
       "    .dataframe tbody tr th:only-of-type {\n",
       "        vertical-align: middle;\n",
       "    }\n",
       "\n",
       "    .dataframe tbody tr th {\n",
       "        vertical-align: top;\n",
       "    }\n",
       "\n",
       "    .dataframe thead th {\n",
       "        text-align: right;\n",
       "    }\n",
       "</style>\n",
       "<table border=\"1\" class=\"dataframe\">\n",
       "  <thead>\n",
       "    <tr style=\"text-align: right;\">\n",
       "      <th></th>\n",
       "      <th>lat</th>\n",
       "      <th>lon</th>\n",
       "      <th>rooms</th>\n",
       "      <th>bedrooms</th>\n",
       "      <th>bathrooms</th>\n",
       "      <th>surface_total</th>\n",
       "      <th>surface_covered</th>\n",
       "      <th>price</th>\n",
       "      <th>surface_covered_resc</th>\n",
       "      <th>surface_total_resc</th>\n",
       "      <th>bathrooms_resc</th>\n",
       "      <th>rooms_resc</th>\n",
       "      <th>bedrooms_resc</th>\n",
       "    </tr>\n",
       "  </thead>\n",
       "  <tbody>\n",
       "    <tr>\n",
       "      <th>lat</th>\n",
       "      <td>1.000000</td>\n",
       "      <td>-0.160672</td>\n",
       "      <td>-0.013978</td>\n",
       "      <td>-0.023499</td>\n",
       "      <td>0.075943</td>\n",
       "      <td>0.057951</td>\n",
       "      <td>0.041525</td>\n",
       "      <td>0.283661</td>\n",
       "      <td>0.041525</td>\n",
       "      <td>0.057951</td>\n",
       "      <td>0.075943</td>\n",
       "      <td>-0.013978</td>\n",
       "      <td>-0.023499</td>\n",
       "    </tr>\n",
       "    <tr>\n",
       "      <th>lon</th>\n",
       "      <td>-0.160672</td>\n",
       "      <td>1.000000</td>\n",
       "      <td>0.086675</td>\n",
       "      <td>0.082506</td>\n",
       "      <td>0.034740</td>\n",
       "      <td>0.071373</td>\n",
       "      <td>0.122642</td>\n",
       "      <td>0.106319</td>\n",
       "      <td>0.122642</td>\n",
       "      <td>0.071373</td>\n",
       "      <td>0.034740</td>\n",
       "      <td>0.086675</td>\n",
       "      <td>0.082506</td>\n",
       "    </tr>\n",
       "    <tr>\n",
       "      <th>rooms</th>\n",
       "      <td>-0.013978</td>\n",
       "      <td>0.086675</td>\n",
       "      <td>1.000000</td>\n",
       "      <td>0.924982</td>\n",
       "      <td>0.507035</td>\n",
       "      <td>0.761032</td>\n",
       "      <td>0.801200</td>\n",
       "      <td>0.584444</td>\n",
       "      <td>0.801200</td>\n",
       "      <td>0.761032</td>\n",
       "      <td>0.507035</td>\n",
       "      <td>1.000000</td>\n",
       "      <td>0.924982</td>\n",
       "    </tr>\n",
       "    <tr>\n",
       "      <th>bedrooms</th>\n",
       "      <td>-0.023499</td>\n",
       "      <td>0.082506</td>\n",
       "      <td>0.924982</td>\n",
       "      <td>1.000000</td>\n",
       "      <td>0.514808</td>\n",
       "      <td>0.747690</td>\n",
       "      <td>0.789603</td>\n",
       "      <td>0.562180</td>\n",
       "      <td>0.789603</td>\n",
       "      <td>0.747690</td>\n",
       "      <td>0.514808</td>\n",
       "      <td>0.924982</td>\n",
       "      <td>1.000000</td>\n",
       "    </tr>\n",
       "    <tr>\n",
       "      <th>bathrooms</th>\n",
       "      <td>0.075943</td>\n",
       "      <td>0.034740</td>\n",
       "      <td>0.507035</td>\n",
       "      <td>0.514808</td>\n",
       "      <td>1.000000</td>\n",
       "      <td>0.620963</td>\n",
       "      <td>0.633074</td>\n",
       "      <td>0.607659</td>\n",
       "      <td>0.633074</td>\n",
       "      <td>0.620963</td>\n",
       "      <td>1.000000</td>\n",
       "      <td>0.507035</td>\n",
       "      <td>0.514808</td>\n",
       "    </tr>\n",
       "    <tr>\n",
       "      <th>surface_total</th>\n",
       "      <td>0.057951</td>\n",
       "      <td>0.071373</td>\n",
       "      <td>0.761032</td>\n",
       "      <td>0.747690</td>\n",
       "      <td>0.620963</td>\n",
       "      <td>1.000000</td>\n",
       "      <td>0.942226</td>\n",
       "      <td>0.790025</td>\n",
       "      <td>0.942226</td>\n",
       "      <td>1.000000</td>\n",
       "      <td>0.620963</td>\n",
       "      <td>0.761032</td>\n",
       "      <td>0.747690</td>\n",
       "    </tr>\n",
       "    <tr>\n",
       "      <th>surface_covered</th>\n",
       "      <td>0.041525</td>\n",
       "      <td>0.122642</td>\n",
       "      <td>0.801200</td>\n",
       "      <td>0.789603</td>\n",
       "      <td>0.633074</td>\n",
       "      <td>0.942226</td>\n",
       "      <td>1.000000</td>\n",
       "      <td>0.781912</td>\n",
       "      <td>1.000000</td>\n",
       "      <td>0.942226</td>\n",
       "      <td>0.633074</td>\n",
       "      <td>0.801200</td>\n",
       "      <td>0.789603</td>\n",
       "    </tr>\n",
       "    <tr>\n",
       "      <th>price</th>\n",
       "      <td>0.283661</td>\n",
       "      <td>0.106319</td>\n",
       "      <td>0.584444</td>\n",
       "      <td>0.562180</td>\n",
       "      <td>0.607659</td>\n",
       "      <td>0.790025</td>\n",
       "      <td>0.781912</td>\n",
       "      <td>1.000000</td>\n",
       "      <td>0.781912</td>\n",
       "      <td>0.790025</td>\n",
       "      <td>0.607659</td>\n",
       "      <td>0.584444</td>\n",
       "      <td>0.562180</td>\n",
       "    </tr>\n",
       "    <tr>\n",
       "      <th>surface_covered_resc</th>\n",
       "      <td>0.041525</td>\n",
       "      <td>0.122642</td>\n",
       "      <td>0.801200</td>\n",
       "      <td>0.789603</td>\n",
       "      <td>0.633074</td>\n",
       "      <td>0.942226</td>\n",
       "      <td>1.000000</td>\n",
       "      <td>0.781912</td>\n",
       "      <td>1.000000</td>\n",
       "      <td>0.942226</td>\n",
       "      <td>0.633074</td>\n",
       "      <td>0.801200</td>\n",
       "      <td>0.789603</td>\n",
       "    </tr>\n",
       "    <tr>\n",
       "      <th>surface_total_resc</th>\n",
       "      <td>0.057951</td>\n",
       "      <td>0.071373</td>\n",
       "      <td>0.761032</td>\n",
       "      <td>0.747690</td>\n",
       "      <td>0.620963</td>\n",
       "      <td>1.000000</td>\n",
       "      <td>0.942226</td>\n",
       "      <td>0.790025</td>\n",
       "      <td>0.942226</td>\n",
       "      <td>1.000000</td>\n",
       "      <td>0.620963</td>\n",
       "      <td>0.761032</td>\n",
       "      <td>0.747690</td>\n",
       "    </tr>\n",
       "    <tr>\n",
       "      <th>bathrooms_resc</th>\n",
       "      <td>0.075943</td>\n",
       "      <td>0.034740</td>\n",
       "      <td>0.507035</td>\n",
       "      <td>0.514808</td>\n",
       "      <td>1.000000</td>\n",
       "      <td>0.620963</td>\n",
       "      <td>0.633074</td>\n",
       "      <td>0.607659</td>\n",
       "      <td>0.633074</td>\n",
       "      <td>0.620963</td>\n",
       "      <td>1.000000</td>\n",
       "      <td>0.507035</td>\n",
       "      <td>0.514808</td>\n",
       "    </tr>\n",
       "    <tr>\n",
       "      <th>rooms_resc</th>\n",
       "      <td>-0.013978</td>\n",
       "      <td>0.086675</td>\n",
       "      <td>1.000000</td>\n",
       "      <td>0.924982</td>\n",
       "      <td>0.507035</td>\n",
       "      <td>0.761032</td>\n",
       "      <td>0.801200</td>\n",
       "      <td>0.584444</td>\n",
       "      <td>0.801200</td>\n",
       "      <td>0.761032</td>\n",
       "      <td>0.507035</td>\n",
       "      <td>1.000000</td>\n",
       "      <td>0.924982</td>\n",
       "    </tr>\n",
       "    <tr>\n",
       "      <th>bedrooms_resc</th>\n",
       "      <td>-0.023499</td>\n",
       "      <td>0.082506</td>\n",
       "      <td>0.924982</td>\n",
       "      <td>1.000000</td>\n",
       "      <td>0.514808</td>\n",
       "      <td>0.747690</td>\n",
       "      <td>0.789603</td>\n",
       "      <td>0.562180</td>\n",
       "      <td>0.789603</td>\n",
       "      <td>0.747690</td>\n",
       "      <td>0.514808</td>\n",
       "      <td>0.924982</td>\n",
       "      <td>1.000000</td>\n",
       "    </tr>\n",
       "  </tbody>\n",
       "</table>\n",
       "</div>"
      ],
      "text/plain": [
       "                           lat       lon     rooms  bedrooms  bathrooms  \\\n",
       "lat                   1.000000 -0.160672 -0.013978 -0.023499   0.075943   \n",
       "lon                  -0.160672  1.000000  0.086675  0.082506   0.034740   \n",
       "rooms                -0.013978  0.086675  1.000000  0.924982   0.507035   \n",
       "bedrooms             -0.023499  0.082506  0.924982  1.000000   0.514808   \n",
       "bathrooms             0.075943  0.034740  0.507035  0.514808   1.000000   \n",
       "surface_total         0.057951  0.071373  0.761032  0.747690   0.620963   \n",
       "surface_covered       0.041525  0.122642  0.801200  0.789603   0.633074   \n",
       "price                 0.283661  0.106319  0.584444  0.562180   0.607659   \n",
       "surface_covered_resc  0.041525  0.122642  0.801200  0.789603   0.633074   \n",
       "surface_total_resc    0.057951  0.071373  0.761032  0.747690   0.620963   \n",
       "bathrooms_resc        0.075943  0.034740  0.507035  0.514808   1.000000   \n",
       "rooms_resc           -0.013978  0.086675  1.000000  0.924982   0.507035   \n",
       "bedrooms_resc        -0.023499  0.082506  0.924982  1.000000   0.514808   \n",
       "\n",
       "                      surface_total  surface_covered     price  \\\n",
       "lat                        0.057951         0.041525  0.283661   \n",
       "lon                        0.071373         0.122642  0.106319   \n",
       "rooms                      0.761032         0.801200  0.584444   \n",
       "bedrooms                   0.747690         0.789603  0.562180   \n",
       "bathrooms                  0.620963         0.633074  0.607659   \n",
       "surface_total              1.000000         0.942226  0.790025   \n",
       "surface_covered            0.942226         1.000000  0.781912   \n",
       "price                      0.790025         0.781912  1.000000   \n",
       "surface_covered_resc       0.942226         1.000000  0.781912   \n",
       "surface_total_resc         1.000000         0.942226  0.790025   \n",
       "bathrooms_resc             0.620963         0.633074  0.607659   \n",
       "rooms_resc                 0.761032         0.801200  0.584444   \n",
       "bedrooms_resc              0.747690         0.789603  0.562180   \n",
       "\n",
       "                      surface_covered_resc  surface_total_resc  \\\n",
       "lat                               0.041525            0.057951   \n",
       "lon                               0.122642            0.071373   \n",
       "rooms                             0.801200            0.761032   \n",
       "bedrooms                          0.789603            0.747690   \n",
       "bathrooms                         0.633074            0.620963   \n",
       "surface_total                     0.942226            1.000000   \n",
       "surface_covered                   1.000000            0.942226   \n",
       "price                             0.781912            0.790025   \n",
       "surface_covered_resc              1.000000            0.942226   \n",
       "surface_total_resc                0.942226            1.000000   \n",
       "bathrooms_resc                    0.633074            0.620963   \n",
       "rooms_resc                        0.801200            0.761032   \n",
       "bedrooms_resc                     0.789603            0.747690   \n",
       "\n",
       "                      bathrooms_resc  rooms_resc  bedrooms_resc  \n",
       "lat                         0.075943   -0.013978      -0.023499  \n",
       "lon                         0.034740    0.086675       0.082506  \n",
       "rooms                       0.507035    1.000000       0.924982  \n",
       "bedrooms                    0.514808    0.924982       1.000000  \n",
       "bathrooms                   1.000000    0.507035       0.514808  \n",
       "surface_total               0.620963    0.761032       0.747690  \n",
       "surface_covered             0.633074    0.801200       0.789603  \n",
       "price                       0.607659    0.584444       0.562180  \n",
       "surface_covered_resc        0.633074    0.801200       0.789603  \n",
       "surface_total_resc          0.620963    0.761032       0.747690  \n",
       "bathrooms_resc              1.000000    0.507035       0.514808  \n",
       "rooms_resc                  0.507035    1.000000       0.924982  \n",
       "bedrooms_resc               0.514808    0.924982       1.000000  "
      ]
     },
     "execution_count": 53,
     "metadata": {},
     "output_type": "execute_result"
    }
   ],
   "source": [
    "data_properati_departamento.corr()"
   ]
  },
  {
   "cell_type": "markdown",
   "metadata": {},
   "source": [
    "Las mejores variables para predecir el precio son surface_total y surface_covered ya que son las que tienen mejor correlación con el precio."
   ]
  },
  {
   "cell_type": "markdown",
   "metadata": {},
   "source": [
    "# Correlación Casas"
   ]
  },
  {
   "cell_type": "code",
   "execution_count": 54,
   "metadata": {},
   "outputs": [
    {
     "data": {
      "text/html": [
       "<div>\n",
       "<style scoped>\n",
       "    .dataframe tbody tr th:only-of-type {\n",
       "        vertical-align: middle;\n",
       "    }\n",
       "\n",
       "    .dataframe tbody tr th {\n",
       "        vertical-align: top;\n",
       "    }\n",
       "\n",
       "    .dataframe thead th {\n",
       "        text-align: right;\n",
       "    }\n",
       "</style>\n",
       "<table border=\"1\" class=\"dataframe\">\n",
       "  <thead>\n",
       "    <tr style=\"text-align: right;\">\n",
       "      <th></th>\n",
       "      <th>lat</th>\n",
       "      <th>lon</th>\n",
       "      <th>rooms</th>\n",
       "      <th>bedrooms</th>\n",
       "      <th>bathrooms</th>\n",
       "      <th>surface_total</th>\n",
       "      <th>surface_covered</th>\n",
       "      <th>price</th>\n",
       "      <th>surface_covered_resc</th>\n",
       "      <th>surface_total_resc</th>\n",
       "      <th>bathrooms_resc</th>\n",
       "      <th>bedrooms_resc</th>\n",
       "      <th>casa_resc</th>\n",
       "    </tr>\n",
       "  </thead>\n",
       "  <tbody>\n",
       "    <tr>\n",
       "      <th>lat</th>\n",
       "      <td>1.000000</td>\n",
       "      <td>-0.100974</td>\n",
       "      <td>0.016322</td>\n",
       "      <td>-0.046339</td>\n",
       "      <td>0.049663</td>\n",
       "      <td>-0.053160</td>\n",
       "      <td>-0.010486</td>\n",
       "      <td>0.382157</td>\n",
       "      <td>-0.010486</td>\n",
       "      <td>-0.053160</td>\n",
       "      <td>0.049663</td>\n",
       "      <td>-0.046339</td>\n",
       "      <td>0.016322</td>\n",
       "    </tr>\n",
       "    <tr>\n",
       "      <th>lon</th>\n",
       "      <td>-0.100974</td>\n",
       "      <td>1.000000</td>\n",
       "      <td>0.105554</td>\n",
       "      <td>0.089307</td>\n",
       "      <td>0.056637</td>\n",
       "      <td>0.002345</td>\n",
       "      <td>0.032042</td>\n",
       "      <td>-0.053968</td>\n",
       "      <td>0.032042</td>\n",
       "      <td>0.002345</td>\n",
       "      <td>0.056637</td>\n",
       "      <td>0.089307</td>\n",
       "      <td>0.105554</td>\n",
       "    </tr>\n",
       "    <tr>\n",
       "      <th>rooms</th>\n",
       "      <td>0.016322</td>\n",
       "      <td>0.105554</td>\n",
       "      <td>1.000000</td>\n",
       "      <td>0.839840</td>\n",
       "      <td>0.462281</td>\n",
       "      <td>0.478557</td>\n",
       "      <td>0.554475</td>\n",
       "      <td>0.402426</td>\n",
       "      <td>0.554475</td>\n",
       "      <td>0.478557</td>\n",
       "      <td>0.462281</td>\n",
       "      <td>0.839840</td>\n",
       "      <td>1.000000</td>\n",
       "    </tr>\n",
       "    <tr>\n",
       "      <th>bedrooms</th>\n",
       "      <td>-0.046339</td>\n",
       "      <td>0.089307</td>\n",
       "      <td>0.839840</td>\n",
       "      <td>1.000000</td>\n",
       "      <td>0.497287</td>\n",
       "      <td>0.455296</td>\n",
       "      <td>0.533292</td>\n",
       "      <td>0.339179</td>\n",
       "      <td>0.533292</td>\n",
       "      <td>0.455296</td>\n",
       "      <td>0.497287</td>\n",
       "      <td>1.000000</td>\n",
       "      <td>0.839840</td>\n",
       "    </tr>\n",
       "    <tr>\n",
       "      <th>bathrooms</th>\n",
       "      <td>0.049663</td>\n",
       "      <td>0.056637</td>\n",
       "      <td>0.462281</td>\n",
       "      <td>0.497287</td>\n",
       "      <td>1.000000</td>\n",
       "      <td>0.472271</td>\n",
       "      <td>0.555672</td>\n",
       "      <td>0.494613</td>\n",
       "      <td>0.555672</td>\n",
       "      <td>0.472271</td>\n",
       "      <td>1.000000</td>\n",
       "      <td>0.497287</td>\n",
       "      <td>0.462281</td>\n",
       "    </tr>\n",
       "    <tr>\n",
       "      <th>surface_total</th>\n",
       "      <td>-0.053160</td>\n",
       "      <td>0.002345</td>\n",
       "      <td>0.478557</td>\n",
       "      <td>0.455296</td>\n",
       "      <td>0.472271</td>\n",
       "      <td>1.000000</td>\n",
       "      <td>0.850474</td>\n",
       "      <td>0.627384</td>\n",
       "      <td>0.850474</td>\n",
       "      <td>1.000000</td>\n",
       "      <td>0.472271</td>\n",
       "      <td>0.455296</td>\n",
       "      <td>0.478557</td>\n",
       "    </tr>\n",
       "    <tr>\n",
       "      <th>surface_covered</th>\n",
       "      <td>-0.010486</td>\n",
       "      <td>0.032042</td>\n",
       "      <td>0.554475</td>\n",
       "      <td>0.533292</td>\n",
       "      <td>0.555672</td>\n",
       "      <td>0.850474</td>\n",
       "      <td>1.000000</td>\n",
       "      <td>0.646312</td>\n",
       "      <td>1.000000</td>\n",
       "      <td>0.850474</td>\n",
       "      <td>0.555672</td>\n",
       "      <td>0.533292</td>\n",
       "      <td>0.554475</td>\n",
       "    </tr>\n",
       "    <tr>\n",
       "      <th>price</th>\n",
       "      <td>0.382157</td>\n",
       "      <td>-0.053968</td>\n",
       "      <td>0.402426</td>\n",
       "      <td>0.339179</td>\n",
       "      <td>0.494613</td>\n",
       "      <td>0.627384</td>\n",
       "      <td>0.646312</td>\n",
       "      <td>1.000000</td>\n",
       "      <td>0.646312</td>\n",
       "      <td>0.627384</td>\n",
       "      <td>0.494613</td>\n",
       "      <td>0.339179</td>\n",
       "      <td>0.402426</td>\n",
       "    </tr>\n",
       "    <tr>\n",
       "      <th>surface_covered_resc</th>\n",
       "      <td>-0.010486</td>\n",
       "      <td>0.032042</td>\n",
       "      <td>0.554475</td>\n",
       "      <td>0.533292</td>\n",
       "      <td>0.555672</td>\n",
       "      <td>0.850474</td>\n",
       "      <td>1.000000</td>\n",
       "      <td>0.646312</td>\n",
       "      <td>1.000000</td>\n",
       "      <td>0.850474</td>\n",
       "      <td>0.555672</td>\n",
       "      <td>0.533292</td>\n",
       "      <td>0.554475</td>\n",
       "    </tr>\n",
       "    <tr>\n",
       "      <th>surface_total_resc</th>\n",
       "      <td>-0.053160</td>\n",
       "      <td>0.002345</td>\n",
       "      <td>0.478557</td>\n",
       "      <td>0.455296</td>\n",
       "      <td>0.472271</td>\n",
       "      <td>1.000000</td>\n",
       "      <td>0.850474</td>\n",
       "      <td>0.627384</td>\n",
       "      <td>0.850474</td>\n",
       "      <td>1.000000</td>\n",
       "      <td>0.472271</td>\n",
       "      <td>0.455296</td>\n",
       "      <td>0.478557</td>\n",
       "    </tr>\n",
       "    <tr>\n",
       "      <th>bathrooms_resc</th>\n",
       "      <td>0.049663</td>\n",
       "      <td>0.056637</td>\n",
       "      <td>0.462281</td>\n",
       "      <td>0.497287</td>\n",
       "      <td>1.000000</td>\n",
       "      <td>0.472271</td>\n",
       "      <td>0.555672</td>\n",
       "      <td>0.494613</td>\n",
       "      <td>0.555672</td>\n",
       "      <td>0.472271</td>\n",
       "      <td>1.000000</td>\n",
       "      <td>0.497287</td>\n",
       "      <td>0.462281</td>\n",
       "    </tr>\n",
       "    <tr>\n",
       "      <th>bedrooms_resc</th>\n",
       "      <td>-0.046339</td>\n",
       "      <td>0.089307</td>\n",
       "      <td>0.839840</td>\n",
       "      <td>1.000000</td>\n",
       "      <td>0.497287</td>\n",
       "      <td>0.455296</td>\n",
       "      <td>0.533292</td>\n",
       "      <td>0.339179</td>\n",
       "      <td>0.533292</td>\n",
       "      <td>0.455296</td>\n",
       "      <td>0.497287</td>\n",
       "      <td>1.000000</td>\n",
       "      <td>0.839840</td>\n",
       "    </tr>\n",
       "    <tr>\n",
       "      <th>casa_resc</th>\n",
       "      <td>0.016322</td>\n",
       "      <td>0.105554</td>\n",
       "      <td>1.000000</td>\n",
       "      <td>0.839840</td>\n",
       "      <td>0.462281</td>\n",
       "      <td>0.478557</td>\n",
       "      <td>0.554475</td>\n",
       "      <td>0.402426</td>\n",
       "      <td>0.554475</td>\n",
       "      <td>0.478557</td>\n",
       "      <td>0.462281</td>\n",
       "      <td>0.839840</td>\n",
       "      <td>1.000000</td>\n",
       "    </tr>\n",
       "  </tbody>\n",
       "</table>\n",
       "</div>"
      ],
      "text/plain": [
       "                           lat       lon     rooms  bedrooms  bathrooms  \\\n",
       "lat                   1.000000 -0.100974  0.016322 -0.046339   0.049663   \n",
       "lon                  -0.100974  1.000000  0.105554  0.089307   0.056637   \n",
       "rooms                 0.016322  0.105554  1.000000  0.839840   0.462281   \n",
       "bedrooms             -0.046339  0.089307  0.839840  1.000000   0.497287   \n",
       "bathrooms             0.049663  0.056637  0.462281  0.497287   1.000000   \n",
       "surface_total        -0.053160  0.002345  0.478557  0.455296   0.472271   \n",
       "surface_covered      -0.010486  0.032042  0.554475  0.533292   0.555672   \n",
       "price                 0.382157 -0.053968  0.402426  0.339179   0.494613   \n",
       "surface_covered_resc -0.010486  0.032042  0.554475  0.533292   0.555672   \n",
       "surface_total_resc   -0.053160  0.002345  0.478557  0.455296   0.472271   \n",
       "bathrooms_resc        0.049663  0.056637  0.462281  0.497287   1.000000   \n",
       "bedrooms_resc        -0.046339  0.089307  0.839840  1.000000   0.497287   \n",
       "casa_resc             0.016322  0.105554  1.000000  0.839840   0.462281   \n",
       "\n",
       "                      surface_total  surface_covered     price  \\\n",
       "lat                       -0.053160        -0.010486  0.382157   \n",
       "lon                        0.002345         0.032042 -0.053968   \n",
       "rooms                      0.478557         0.554475  0.402426   \n",
       "bedrooms                   0.455296         0.533292  0.339179   \n",
       "bathrooms                  0.472271         0.555672  0.494613   \n",
       "surface_total              1.000000         0.850474  0.627384   \n",
       "surface_covered            0.850474         1.000000  0.646312   \n",
       "price                      0.627384         0.646312  1.000000   \n",
       "surface_covered_resc       0.850474         1.000000  0.646312   \n",
       "surface_total_resc         1.000000         0.850474  0.627384   \n",
       "bathrooms_resc             0.472271         0.555672  0.494613   \n",
       "bedrooms_resc              0.455296         0.533292  0.339179   \n",
       "casa_resc                  0.478557         0.554475  0.402426   \n",
       "\n",
       "                      surface_covered_resc  surface_total_resc  \\\n",
       "lat                              -0.010486           -0.053160   \n",
       "lon                               0.032042            0.002345   \n",
       "rooms                             0.554475            0.478557   \n",
       "bedrooms                          0.533292            0.455296   \n",
       "bathrooms                         0.555672            0.472271   \n",
       "surface_total                     0.850474            1.000000   \n",
       "surface_covered                   1.000000            0.850474   \n",
       "price                             0.646312            0.627384   \n",
       "surface_covered_resc              1.000000            0.850474   \n",
       "surface_total_resc                0.850474            1.000000   \n",
       "bathrooms_resc                    0.555672            0.472271   \n",
       "bedrooms_resc                     0.533292            0.455296   \n",
       "casa_resc                         0.554475            0.478557   \n",
       "\n",
       "                      bathrooms_resc  bedrooms_resc  casa_resc  \n",
       "lat                         0.049663      -0.046339   0.016322  \n",
       "lon                         0.056637       0.089307   0.105554  \n",
       "rooms                       0.462281       0.839840   1.000000  \n",
       "bedrooms                    0.497287       1.000000   0.839840  \n",
       "bathrooms                   1.000000       0.497287   0.462281  \n",
       "surface_total               0.472271       0.455296   0.478557  \n",
       "surface_covered             0.555672       0.533292   0.554475  \n",
       "price                       0.494613       0.339179   0.402426  \n",
       "surface_covered_resc        0.555672       0.533292   0.554475  \n",
       "surface_total_resc          0.472271       0.455296   0.478557  \n",
       "bathrooms_resc              1.000000       0.497287   0.462281  \n",
       "bedrooms_resc               0.497287       1.000000   0.839840  \n",
       "casa_resc                   0.462281       0.839840   1.000000  "
      ]
     },
     "execution_count": 54,
     "metadata": {},
     "output_type": "execute_result"
    }
   ],
   "source": [
    "data_properati_casa.corr()"
   ]
  },
  {
   "cell_type": "markdown",
   "metadata": {},
   "source": [
    "Al igual que en el dataset de departamentos también las mejores variables para predecir el precio es surface_covered y surface_total, aunque tienen una menor correlación con respecto al precio, la variable bathrooms aunque tiene una correlación menor, llega a tener un valor del 0.50"
   ]
  },
  {
   "cell_type": "markdown",
   "metadata": {},
   "source": [
    "# Correlación PH"
   ]
  },
  {
   "cell_type": "code",
   "execution_count": 55,
   "metadata": {},
   "outputs": [
    {
     "data": {
      "text/html": [
       "<div>\n",
       "<style scoped>\n",
       "    .dataframe tbody tr th:only-of-type {\n",
       "        vertical-align: middle;\n",
       "    }\n",
       "\n",
       "    .dataframe tbody tr th {\n",
       "        vertical-align: top;\n",
       "    }\n",
       "\n",
       "    .dataframe thead th {\n",
       "        text-align: right;\n",
       "    }\n",
       "</style>\n",
       "<table border=\"1\" class=\"dataframe\">\n",
       "  <thead>\n",
       "    <tr style=\"text-align: right;\">\n",
       "      <th></th>\n",
       "      <th>lat</th>\n",
       "      <th>lon</th>\n",
       "      <th>rooms</th>\n",
       "      <th>bedrooms</th>\n",
       "      <th>bathrooms</th>\n",
       "      <th>surface_total</th>\n",
       "      <th>surface_covered</th>\n",
       "      <th>price</th>\n",
       "      <th>surface_covered_resc</th>\n",
       "      <th>surface_total_resc</th>\n",
       "      <th>bathrooms_resc</th>\n",
       "      <th>bedrooms_resc</th>\n",
       "      <th>rooms_resc</th>\n",
       "    </tr>\n",
       "  </thead>\n",
       "  <tbody>\n",
       "    <tr>\n",
       "      <th>lat</th>\n",
       "      <td>1.000000</td>\n",
       "      <td>-0.035499</td>\n",
       "      <td>-0.055181</td>\n",
       "      <td>-0.059276</td>\n",
       "      <td>0.050340</td>\n",
       "      <td>-0.081477</td>\n",
       "      <td>-0.039455</td>\n",
       "      <td>0.289967</td>\n",
       "      <td>-0.039455</td>\n",
       "      <td>-0.081477</td>\n",
       "      <td>0.050340</td>\n",
       "      <td>-0.059276</td>\n",
       "      <td>-0.055181</td>\n",
       "    </tr>\n",
       "    <tr>\n",
       "      <th>lon</th>\n",
       "      <td>-0.035499</td>\n",
       "      <td>1.000000</td>\n",
       "      <td>0.143958</td>\n",
       "      <td>0.156548</td>\n",
       "      <td>0.054311</td>\n",
       "      <td>-0.041734</td>\n",
       "      <td>0.113798</td>\n",
       "      <td>0.085601</td>\n",
       "      <td>0.113798</td>\n",
       "      <td>-0.041734</td>\n",
       "      <td>0.054311</td>\n",
       "      <td>0.156548</td>\n",
       "      <td>0.143958</td>\n",
       "    </tr>\n",
       "    <tr>\n",
       "      <th>rooms</th>\n",
       "      <td>-0.055181</td>\n",
       "      <td>0.143958</td>\n",
       "      <td>1.000000</td>\n",
       "      <td>0.934621</td>\n",
       "      <td>0.483877</td>\n",
       "      <td>0.660788</td>\n",
       "      <td>0.746709</td>\n",
       "      <td>0.559810</td>\n",
       "      <td>0.746709</td>\n",
       "      <td>0.660788</td>\n",
       "      <td>0.483877</td>\n",
       "      <td>0.934621</td>\n",
       "      <td>1.000000</td>\n",
       "    </tr>\n",
       "    <tr>\n",
       "      <th>bedrooms</th>\n",
       "      <td>-0.059276</td>\n",
       "      <td>0.156548</td>\n",
       "      <td>0.934621</td>\n",
       "      <td>1.000000</td>\n",
       "      <td>0.470570</td>\n",
       "      <td>0.626505</td>\n",
       "      <td>0.730795</td>\n",
       "      <td>0.551927</td>\n",
       "      <td>0.730795</td>\n",
       "      <td>0.626505</td>\n",
       "      <td>0.470570</td>\n",
       "      <td>1.000000</td>\n",
       "      <td>0.934621</td>\n",
       "    </tr>\n",
       "    <tr>\n",
       "      <th>bathrooms</th>\n",
       "      <td>0.050340</td>\n",
       "      <td>0.054311</td>\n",
       "      <td>0.483877</td>\n",
       "      <td>0.470570</td>\n",
       "      <td>1.000000</td>\n",
       "      <td>0.482376</td>\n",
       "      <td>0.568721</td>\n",
       "      <td>0.538276</td>\n",
       "      <td>0.568721</td>\n",
       "      <td>0.482376</td>\n",
       "      <td>1.000000</td>\n",
       "      <td>0.470570</td>\n",
       "      <td>0.483877</td>\n",
       "    </tr>\n",
       "    <tr>\n",
       "      <th>surface_total</th>\n",
       "      <td>-0.081477</td>\n",
       "      <td>-0.041734</td>\n",
       "      <td>0.660788</td>\n",
       "      <td>0.626505</td>\n",
       "      <td>0.482376</td>\n",
       "      <td>1.000000</td>\n",
       "      <td>0.836552</td>\n",
       "      <td>0.650841</td>\n",
       "      <td>0.836552</td>\n",
       "      <td>1.000000</td>\n",
       "      <td>0.482376</td>\n",
       "      <td>0.626505</td>\n",
       "      <td>0.660788</td>\n",
       "    </tr>\n",
       "    <tr>\n",
       "      <th>surface_covered</th>\n",
       "      <td>-0.039455</td>\n",
       "      <td>0.113798</td>\n",
       "      <td>0.746709</td>\n",
       "      <td>0.730795</td>\n",
       "      <td>0.568721</td>\n",
       "      <td>0.836552</td>\n",
       "      <td>1.000000</td>\n",
       "      <td>0.709563</td>\n",
       "      <td>1.000000</td>\n",
       "      <td>0.836552</td>\n",
       "      <td>0.568721</td>\n",
       "      <td>0.730795</td>\n",
       "      <td>0.746709</td>\n",
       "    </tr>\n",
       "    <tr>\n",
       "      <th>price</th>\n",
       "      <td>0.289967</td>\n",
       "      <td>0.085601</td>\n",
       "      <td>0.559810</td>\n",
       "      <td>0.551927</td>\n",
       "      <td>0.538276</td>\n",
       "      <td>0.650841</td>\n",
       "      <td>0.709563</td>\n",
       "      <td>1.000000</td>\n",
       "      <td>0.709563</td>\n",
       "      <td>0.650841</td>\n",
       "      <td>0.538276</td>\n",
       "      <td>0.551927</td>\n",
       "      <td>0.559810</td>\n",
       "    </tr>\n",
       "    <tr>\n",
       "      <th>surface_covered_resc</th>\n",
       "      <td>-0.039455</td>\n",
       "      <td>0.113798</td>\n",
       "      <td>0.746709</td>\n",
       "      <td>0.730795</td>\n",
       "      <td>0.568721</td>\n",
       "      <td>0.836552</td>\n",
       "      <td>1.000000</td>\n",
       "      <td>0.709563</td>\n",
       "      <td>1.000000</td>\n",
       "      <td>0.836552</td>\n",
       "      <td>0.568721</td>\n",
       "      <td>0.730795</td>\n",
       "      <td>0.746709</td>\n",
       "    </tr>\n",
       "    <tr>\n",
       "      <th>surface_total_resc</th>\n",
       "      <td>-0.081477</td>\n",
       "      <td>-0.041734</td>\n",
       "      <td>0.660788</td>\n",
       "      <td>0.626505</td>\n",
       "      <td>0.482376</td>\n",
       "      <td>1.000000</td>\n",
       "      <td>0.836552</td>\n",
       "      <td>0.650841</td>\n",
       "      <td>0.836552</td>\n",
       "      <td>1.000000</td>\n",
       "      <td>0.482376</td>\n",
       "      <td>0.626505</td>\n",
       "      <td>0.660788</td>\n",
       "    </tr>\n",
       "    <tr>\n",
       "      <th>bathrooms_resc</th>\n",
       "      <td>0.050340</td>\n",
       "      <td>0.054311</td>\n",
       "      <td>0.483877</td>\n",
       "      <td>0.470570</td>\n",
       "      <td>1.000000</td>\n",
       "      <td>0.482376</td>\n",
       "      <td>0.568721</td>\n",
       "      <td>0.538276</td>\n",
       "      <td>0.568721</td>\n",
       "      <td>0.482376</td>\n",
       "      <td>1.000000</td>\n",
       "      <td>0.470570</td>\n",
       "      <td>0.483877</td>\n",
       "    </tr>\n",
       "    <tr>\n",
       "      <th>bedrooms_resc</th>\n",
       "      <td>-0.059276</td>\n",
       "      <td>0.156548</td>\n",
       "      <td>0.934621</td>\n",
       "      <td>1.000000</td>\n",
       "      <td>0.470570</td>\n",
       "      <td>0.626505</td>\n",
       "      <td>0.730795</td>\n",
       "      <td>0.551927</td>\n",
       "      <td>0.730795</td>\n",
       "      <td>0.626505</td>\n",
       "      <td>0.470570</td>\n",
       "      <td>1.000000</td>\n",
       "      <td>0.934621</td>\n",
       "    </tr>\n",
       "    <tr>\n",
       "      <th>rooms_resc</th>\n",
       "      <td>-0.055181</td>\n",
       "      <td>0.143958</td>\n",
       "      <td>1.000000</td>\n",
       "      <td>0.934621</td>\n",
       "      <td>0.483877</td>\n",
       "      <td>0.660788</td>\n",
       "      <td>0.746709</td>\n",
       "      <td>0.559810</td>\n",
       "      <td>0.746709</td>\n",
       "      <td>0.660788</td>\n",
       "      <td>0.483877</td>\n",
       "      <td>0.934621</td>\n",
       "      <td>1.000000</td>\n",
       "    </tr>\n",
       "  </tbody>\n",
       "</table>\n",
       "</div>"
      ],
      "text/plain": [
       "                           lat       lon     rooms  bedrooms  bathrooms  \\\n",
       "lat                   1.000000 -0.035499 -0.055181 -0.059276   0.050340   \n",
       "lon                  -0.035499  1.000000  0.143958  0.156548   0.054311   \n",
       "rooms                -0.055181  0.143958  1.000000  0.934621   0.483877   \n",
       "bedrooms             -0.059276  0.156548  0.934621  1.000000   0.470570   \n",
       "bathrooms             0.050340  0.054311  0.483877  0.470570   1.000000   \n",
       "surface_total        -0.081477 -0.041734  0.660788  0.626505   0.482376   \n",
       "surface_covered      -0.039455  0.113798  0.746709  0.730795   0.568721   \n",
       "price                 0.289967  0.085601  0.559810  0.551927   0.538276   \n",
       "surface_covered_resc -0.039455  0.113798  0.746709  0.730795   0.568721   \n",
       "surface_total_resc   -0.081477 -0.041734  0.660788  0.626505   0.482376   \n",
       "bathrooms_resc        0.050340  0.054311  0.483877  0.470570   1.000000   \n",
       "bedrooms_resc        -0.059276  0.156548  0.934621  1.000000   0.470570   \n",
       "rooms_resc           -0.055181  0.143958  1.000000  0.934621   0.483877   \n",
       "\n",
       "                      surface_total  surface_covered     price  \\\n",
       "lat                       -0.081477        -0.039455  0.289967   \n",
       "lon                       -0.041734         0.113798  0.085601   \n",
       "rooms                      0.660788         0.746709  0.559810   \n",
       "bedrooms                   0.626505         0.730795  0.551927   \n",
       "bathrooms                  0.482376         0.568721  0.538276   \n",
       "surface_total              1.000000         0.836552  0.650841   \n",
       "surface_covered            0.836552         1.000000  0.709563   \n",
       "price                      0.650841         0.709563  1.000000   \n",
       "surface_covered_resc       0.836552         1.000000  0.709563   \n",
       "surface_total_resc         1.000000         0.836552  0.650841   \n",
       "bathrooms_resc             0.482376         0.568721  0.538276   \n",
       "bedrooms_resc              0.626505         0.730795  0.551927   \n",
       "rooms_resc                 0.660788         0.746709  0.559810   \n",
       "\n",
       "                      surface_covered_resc  surface_total_resc  \\\n",
       "lat                              -0.039455           -0.081477   \n",
       "lon                               0.113798           -0.041734   \n",
       "rooms                             0.746709            0.660788   \n",
       "bedrooms                          0.730795            0.626505   \n",
       "bathrooms                         0.568721            0.482376   \n",
       "surface_total                     0.836552            1.000000   \n",
       "surface_covered                   1.000000            0.836552   \n",
       "price                             0.709563            0.650841   \n",
       "surface_covered_resc              1.000000            0.836552   \n",
       "surface_total_resc                0.836552            1.000000   \n",
       "bathrooms_resc                    0.568721            0.482376   \n",
       "bedrooms_resc                     0.730795            0.626505   \n",
       "rooms_resc                        0.746709            0.660788   \n",
       "\n",
       "                      bathrooms_resc  bedrooms_resc  rooms_resc  \n",
       "lat                         0.050340      -0.059276   -0.055181  \n",
       "lon                         0.054311       0.156548    0.143958  \n",
       "rooms                       0.483877       0.934621    1.000000  \n",
       "bedrooms                    0.470570       1.000000    0.934621  \n",
       "bathrooms                   1.000000       0.470570    0.483877  \n",
       "surface_total               0.482376       0.626505    0.660788  \n",
       "surface_covered             0.568721       0.730795    0.746709  \n",
       "price                       0.538276       0.551927    0.559810  \n",
       "surface_covered_resc        0.568721       0.730795    0.746709  \n",
       "surface_total_resc          0.482376       0.626505    0.660788  \n",
       "bathrooms_resc              1.000000       0.470570    0.483877  \n",
       "bedrooms_resc               0.470570       1.000000    0.934621  \n",
       "rooms_resc                  0.483877       0.934621    1.000000  "
      ]
     },
     "execution_count": 55,
     "metadata": {},
     "output_type": "execute_result"
    }
   ],
   "source": [
    "data_properati_PH.corr()"
   ]
  },
  {
   "cell_type": "markdown",
   "metadata": {},
   "source": [
    "Las variables con mayor correlación con respecto al precio es igual surface_total y surface_covered, en este dataset las otras tres variables tienen una correlación muy parecida entre sí, tanto rooms, bedrooms y bathrooms tienen una correlación aproximada de 0.55 con respecto al precio."
   ]
  },
  {
   "cell_type": "markdown",
   "metadata": {
    "colab_type": "text",
    "id": "AUBaOrNYC4PK"
   },
   "source": [
    "### 2.1 Desafío"
   ]
  },
  {
   "cell_type": "markdown",
   "metadata": {},
   "source": [
    "Una pregunta que se podría responder con el dataset podría ser la siguiente: ¿Cuál es la región más cara para vivir en Argentina? Esta pregunta se puede responder, pero al igual que el ejemplo dado, esta respuesta puede estar sesgada debido a que tal vez las propiedades más caras no son publicadas por este medio."
   ]
  },
  {
   "cell_type": "markdown",
   "metadata": {
    "colab_type": "text",
    "id": "ULhoMAo_C4PP"
   },
   "source": [
    "### 3. Machine Learning\n",
    "\n",
    "En esta sección, debes entrenar dos modelos de Machine Learning - uno de vecinos más cercanos y otro de árboles de decisión -  para predecir el precio de las propiedades tipo `Departamento` en la Ciudad Autónoma de Buenos Aires (`Capital Federal`). Para ello, no debes olvidarte de:\n",
    "\n",
    "* Elegir una métrica apropiada para evaluar los resultados de los modelos.\n",
    "* Seleccionar las variables predictoras (`X`) y la variable a predecir (`y`). \n",
    "* Realizar un Train/Test split de los datos.\n",
    "* Generar un modelo *benchmark* y evaluarlo.\n",
    "* Entrenar un modelo de vecinos más cercanos y un modelo de árbol de decisión con hiperparámetros iniciales de su elección.\n",
    "* Evaluar los modelos obtenidos. Para ello, evalúa la métrica elegida en el conjunto de Test y en el conjunto de Train. También, realiza gráficos de valores reales vs. valores predichos.\n",
    "* Mejorar el desempeño de sus modelos optimizando el número de vecinos y la profundidad del árbol, respectivamente.\n",
    "* Entre los modelos entrenados, ¿cuál elegirías para utilizar?¿Por qué? \n",
    "* Ser **crítico/a** con la metodología utilizada. Por ejemplo, responde las siguientes preguntas: ¿Qué información no estás usando que podría ayudar al modelo?¿Qué información puede estar demás o repetida?\n",
    "\n",
    "Estos lineamientos corresponden al **mínimo entregable** de esta sección.\n",
    "\n",
    "\n",
    "**Importante:** para asegurarnos que trabajes con un dataset apropiados, debes volver a cargar los datos y realizar el siguiente filtrado:\n",
    "\n",
    "1. Selecciona aquellas propiedades en Capital Federal y cuyo tipo de propiedad es Departamento, PH o Casa.\n",
    "1. Selecciona aquellas propiedades cuya superficie total es menor a 1000 m2 y mayor a 15 m2.\n",
    "1. Selecciona aquellas propiedades cuya precio es menor 4000000 dólares.\n",
    "1. Selecciona las columnas `rooms`, `bedrooms`, `bathrooms`, `surface_total`, `surface_covered` y `price`.\n",
    "1. Descarta aquellas instacias con valores faltantes.\n",
    "\n",
    "**Checkpoint:** deberías obtener un dataset con 81021 instacias y 6 columnas."
   ]
  },
  {
   "cell_type": "markdown",
   "metadata": {},
   "source": [
    "Entre los modelo entrenados eligiría el de .."
   ]
  },
  {
   "cell_type": "code",
   "execution_count": 56,
   "metadata": {
    "colab": {},
    "colab_type": "code",
    "id": "QSqa1vJQC4PR"
   },
   "outputs": [
    {
     "data": {
      "text/plain": [
       "(81019, 6)"
      ]
     },
     "execution_count": 56,
     "metadata": {},
     "output_type": "execute_result"
    }
   ],
   "source": [
    "dp_filtrado = data_properati_final[(data_properati_final.surface_total <= 1000) & (data_properati_final.surface_total >= 15) & (data_properati_final.price <= 4000000 )]\n",
    "dp_filtrado_1 = dp_filtrado.drop(columns = ['start_date', 'end_date','created_on','lat','lon','l1','l2','l3','currency','title','description','property_type','operation_type'])\n",
    "#dp_filtrado_1.shape\n",
    "# dp_filtrado_1.isna().sum()\n",
    "dp_f = dp_filtrado_1[~np.isnan(dp_filtrado_1.surface_covered) & (dp_filtrado_1.bathrooms)]\n",
    "dp_f.shape"
   ]
  },
  {
   "cell_type": "markdown",
   "metadata": {},
   "source": [
    "# Parte B Proyecto 2"
   ]
  },
  {
   "cell_type": "markdown",
   "metadata": {},
   "source": [
    "# Regresión con atributos polinómicos"
   ]
  },
  {
   "cell_type": "code",
   "execution_count": 57,
   "metadata": {},
   "outputs": [],
   "source": [
    "from sklearn.preprocessing import PolynomialFeatures"
   ]
  },
  {
   "cell_type": "code",
   "execution_count": 58,
   "metadata": {},
   "outputs": [],
   "source": [
    "from sklearn.model_selection import train_test_split\n",
    "X = data_properati_departamento[['surface_total_resc','surface_covered_resc','rooms_resc','bathrooms_resc','bedrooms_resc']]\n",
    "y = data_properati_departamento.price\n",
    "X_train, X_test, y_train, y_test = train_test_split(X, y, test_size=0.30, random_state=42)"
   ]
  },
  {
   "cell_type": "code",
   "execution_count": 59,
   "metadata": {},
   "outputs": [
    {
     "name": "stdout",
     "output_type": "stream",
     "text": [
      "(43246, 21) (18535, 21)\n"
     ]
    }
   ],
   "source": [
    "poly = PolynomialFeatures()\n",
    "X_train_new = poly.fit_transform(X_train)\n",
    "X_test_new = poly.fit_transform(X_test)\n",
    "print(X_train_new.shape, X_test_new.shape)"
   ]
  },
  {
   "cell_type": "code",
   "execution_count": 60,
   "metadata": {},
   "outputs": [],
   "source": [
    "from sklearn.linear_model import LinearRegression\n",
    "reg_2 = LinearRegression()\n",
    "reg_2.fit(X_train_new,y_train)\n",
    "y_train_pred_2 = reg_2.predict(X_train_new)\n",
    "y_test_pred_2 = reg_2.predict(X_test_new)"
   ]
  },
  {
   "cell_type": "code",
   "execution_count": 61,
   "metadata": {},
   "outputs": [
    {
     "name": "stdout",
     "output_type": "stream",
     "text": [
      "Accuracy para Modelo: 0.66 (+/- 0.02)\n"
     ]
    }
   ],
   "source": [
    "from sklearn.model_selection import cross_val_score\n",
    "reg_scores = cross_val_score(reg_2, X, y, cv=5)\n",
    "print(\"Accuracy para Modelo: %0.2f (+/- %0.2f)\" % (reg_scores.mean(), reg_scores.std() * 2))"
   ]
  },
  {
   "cell_type": "code",
   "execution_count": 62,
   "metadata": {},
   "outputs": [
    {
     "name": "stdout",
     "output_type": "stream",
     "text": [
      "Raíz del error cuadrático medio en Train: 52795.10337224555\n",
      "Raíz del error cuadrático medio en Test: 53125.28353170076\n"
     ]
    },
    {
     "data": {
      "image/png": "[encoded data removed]",
      "text/plain": [
       "<Figure size 576x288 with 2 Axes>"
      ]
     },
     "metadata": {
      "needs_background": "light"
     },
     "output_type": "display_data"
    }
   ],
   "source": [
    "from sklearn.metrics import mean_squared_error\n",
    "\n",
    "rmse_train = np.sqrt(mean_squared_error(y_train, y_train_pred_2))\n",
    "rmse_test = np.sqrt(mean_squared_error(y_test, y_test_pred_2))\n",
    "print(f'Raíz del error cuadrático medio en Train: {rmse_train}')\n",
    "print(f'Raíz del error cuadrático medio en Test: {rmse_test}')\n",
    "\n",
    "plt.figure(figsize = (8,4))\n",
    "\n",
    "plt.subplot(1,2,1)\n",
    "sns.distplot(y_train - y_train_pred_2, bins = 20, label = 'train')\n",
    "sns.distplot(y_test - y_test_pred_2, bins = 20, label = 'test')\n",
    "plt.xlabel('errores')\n",
    "plt.legend()\n",
    "\n",
    "\n",
    "ax = plt.subplot(1,2,2)\n",
    "ax.scatter(y_test,y_test_pred_2, s =2)\n",
    "\n",
    "lims = [\n",
    "np.min([ax.get_xlim(), ax.get_ylim()]),  # min of both axes\n",
    "np.max([ax.get_xlim(), ax.get_ylim()]),  # max of both axes]\n",
    "]\n",
    "\n",
    "ax.plot(lims, lims, 'k-', alpha=0.75, zorder=0)\n",
    "plt.xlabel('y (test)')\n",
    "plt.ylabel('y_pred (test)')\n",
    "\n",
    "plt.tight_layout()\n",
    "plt.show()"
   ]
  },
  {
   "cell_type": "markdown",
   "metadata": {},
   "source": [
    "# Regularización"
   ]
  },
  {
   "cell_type": "code",
   "execution_count": 63,
   "metadata": {},
   "outputs": [
    {
     "name": "stdout",
     "output_type": "stream",
     "text": [
      "Pendientes: [     0.          59319.40870181  28741.72946989  -3386.51973217\n",
      "  22221.3227716  -15492.21675444 -17510.01990201  16271.22505464\n",
      "  14289.60697187   2636.49256212   1776.56291726  -5512.72913886\n",
      "  -8968.48373327  -1578.10343618  -7664.22549944    270.00313864\n",
      "  -1519.4089154    -778.01164849  -1534.68784257  -1764.69278901\n",
      "    666.86747953]\n",
      "Ordenada: 196975.23144586105\n"
     ]
    }
   ],
   "source": [
    "from sklearn.linear_model import Ridge, Lasso\n",
    "\n",
    "reg_ridge = Ridge(alpha= 0.001)\n",
    "reg_ridge.fit(X_train_new,y_train)\n",
    "\n",
    "print(f'Pendientes: {reg_ridge.coef_}')\n",
    "print(f'Ordenada: {reg_ridge.intercept_}')"
   ]
  },
  {
   "cell_type": "code",
   "execution_count": 64,
   "metadata": {},
   "outputs": [
    {
     "name": "stdout",
     "output_type": "stream",
     "text": [
      "Accuracy para Modelo: 0.68 (+/- 0.01)\n"
     ]
    }
   ],
   "source": [
    "from sklearn.model_selection import cross_val_score\n",
    "ridge_scores = cross_val_score(reg_ridge, X_test_new, y_test, cv=5)\n",
    "print(\"Accuracy para Modelo: %0.2f (+/- %0.2f)\" % (ridge_scores.mean(), ridge_scores.std() * 2))"
   ]
  },
  {
   "cell_type": "markdown",
   "metadata": {},
   "source": [
    "# Optimización de parámetros"
   ]
  },
  {
   "cell_type": "code",
   "execution_count": 65,
   "metadata": {},
   "outputs": [],
   "source": [
    "# Grilla para Grid Search\n",
    "param_grid = {'alpha':np.arange(.0001, 1),\n",
    "              'fit_intercept': ['True','False'],\n",
    "              'solver': ['auto', 'svd','cholesky','lsqr','sparse_cg','sag','saga']}"
   ]
  },
  {
   "cell_type": "code",
   "execution_count": 66,
   "metadata": {},
   "outputs": [],
   "source": [
    "reg_ridge_2 = Ridge()"
   ]
  },
  {
   "cell_type": "code",
   "execution_count": 67,
   "metadata": {},
   "outputs": [
    {
     "data": {
      "text/plain": [
       "GridSearchCV(cv=5, error_score=nan,\n",
       "             estimator=Ridge(alpha=1.0, copy_X=True, fit_intercept=True,\n",
       "                             max_iter=None, normalize=False, random_state=None,\n",
       "                             solver='auto', tol=0.001),\n",
       "             iid='deprecated', n_jobs=None,\n",
       "             param_grid={'alpha': array([0.0001]),\n",
       "                         'fit_intercept': ['True', 'False'],\n",
       "                         'solver': ['auto', 'svd', 'cholesky', 'lsqr',\n",
       "                                    'sparse_cg', 'sag', 'saga']},\n",
       "             pre_dispatch='2*n_jobs', refit=True, return_train_score=False,\n",
       "             scoring=None, verbose=0)"
      ]
     },
     "execution_count": 67,
     "metadata": {},
     "output_type": "execute_result"
    }
   ],
   "source": [
    "from sklearn.model_selection import GridSearchCV\n",
    "# ESTRATEGIA 1: Grid Search\n",
    "model = GridSearchCV(reg_ridge_2, param_grid=param_grid, cv=5)\n",
    "\n",
    "# Entrenamos: KNN con la grilla definida arriba y CV con tamaño de Fold=5\n",
    "model.fit(X_train_new, y_train)"
   ]
  },
  {
   "cell_type": "code",
   "execution_count": 68,
   "metadata": {},
   "outputs": [
    {
     "name": "stdout",
     "output_type": "stream",
     "text": [
      "Mejores parametros: {'alpha': 0.0001, 'fit_intercept': 'True', 'solver': 'sparse_cg'}\n",
      "Mejor Score: 0.6806835253805772\n",
      "\n"
     ]
    }
   ],
   "source": [
    "print(\"Mejores parametros: \"+str(model.best_params_))\n",
    "print(\"Mejor Score: \"+str(model.best_score_)+'\\n')"
   ]
  },
  {
   "cell_type": "code",
   "execution_count": null,
   "metadata": {},
   "outputs": [],
   "source": []
  },
  {
   "cell_type": "code",
   "execution_count": null,
   "metadata": {},
   "outputs": [],
   "source": []
  },
  {
   "cell_type": "code",
   "execution_count": null,
   "metadata": {},
   "outputs": [],
   "source": []
  },
  {
   "cell_type": "markdown",
   "metadata": {},
   "source": [
    "# Modelo Árboles de Decisión (Proyecto 1, Comparación)"
   ]
  },
  {
   "cell_type": "code",
   "execution_count": 69,
   "metadata": {},
   "outputs": [
    {
     "name": "stdout",
     "output_type": "stream",
     "text": [
      "RMSE value for k=  1 is: 69063.83676579961\n",
      "RMSE value for k=  2 is: 60026.97824894035\n",
      "RMSE value for k=  3 is: 56917.088626749035\n",
      "RMSE value for k=  4 is: 54982.20469953239\n",
      "RMSE value for k=  5 is: 53898.911570689015\n",
      "RMSE value for k=  6 is: 52722.218928475406\n",
      "RMSE value for k=  7 is: 51782.19796843859\n",
      "RMSE value for k=  8 is: 51094.048759402656\n",
      "RMSE value for k=  9 is: 50243.28445014599\n",
      "RMSE value for k=  10 is: 49503.27240963788\n",
      "RMSE value for k=  11 is: 48779.633770804336\n",
      "RMSE value for k=  12 is: 48331.5342231068\n",
      "RMSE value for k=  13 is: 47830.2146539261\n",
      "RMSE value for k=  14 is: 47302.25668657991\n",
      "RMSE value for k=  15 is: 47142.952398911395\n",
      "RMSE value for k=  16 is: 47366.238931157575\n",
      "RMSE value for k=  17 is: 47449.6431234966\n",
      "RMSE value for k=  18 is: 47649.92647241304\n",
      "RMSE value for k=  19 is: 47873.77590362852\n",
      "RMSE value for k=  20 is: 47647.07897526357\n",
      "RMSE value for k=  21 is: 47654.62139788165\n",
      "RMSE value for k=  22 is: 47631.828633648154\n",
      "RMSE value for k=  23 is: 47477.67512225897\n",
      "RMSE value for k=  24 is: 47436.97137815815\n",
      "RMSE value for k=  25 is: 47478.61007436647\n",
      "RMSE value for k=  26 is: 47509.328646041104\n",
      "RMSE value for k=  27 is: 47523.43659784609\n",
      "RMSE value for k=  28 is: 47529.67595011971\n",
      "RMSE value for k=  29 is: 47421.59600396429\n",
      "RMSE value for k=  30 is: 47421.59600396429\n",
      "RMSE value for k=  31 is: 47421.59600396429\n",
      "RMSE value for k=  32 is: 47421.59600396429\n",
      "RMSE value for k=  33 is: 47421.59600396429\n",
      "RMSE value for k=  34 is: 47421.59600396429\n",
      "RMSE value for k=  35 is: 47421.59600396429\n",
      "RMSE value for k=  36 is: 47421.59600396429\n",
      "RMSE value for k=  37 is: 47421.59600396429\n",
      "RMSE value for k=  38 is: 47421.59600396429\n",
      "RMSE value for k=  39 is: 47421.59600396429\n",
      "RMSE value for k=  40 is: 47421.59600396429\n",
      "RMSE value for k=  41 is: 47421.59600396429\n",
      "RMSE value for k=  42 is: 47421.59600396429\n",
      "RMSE value for k=  43 is: 47421.59600396429\n",
      "RMSE value for k=  44 is: 47421.59600396429\n",
      "RMSE value for k=  45 is: 47421.59600396429\n",
      "RMSE value for k=  46 is: 47421.59600396429\n",
      "RMSE value for k=  47 is: 47421.59600396429\n",
      "RMSE value for k=  48 is: 47421.59600396429\n",
      "RMSE value for k=  49 is: 47421.59600396429\n",
      "RMSE value for k=  50 is: 47421.59600396429\n"
     ]
    }
   ],
   "source": [
    "from sklearn.tree import DecisionTreeRegressor\n",
    "from math import sqrt\n",
    "rmse_val = []\n",
    "for K in range(50):\n",
    "    K = K+1\n",
    "    tree_regressor = DecisionTreeRegressor(max_depth= K , random_state=42)\n",
    "\n",
    "    tree_regressor.fit(X_train, y_train)  #fit the model\n",
    "    pred= tree_regressor.predict(X_test) #make prediction on test set\n",
    "    error = sqrt(mean_squared_error(y_test,pred)) #calculate rmse\n",
    "    rmse_val.append(error) #store rmse values\n",
    "    print('RMSE value for k= ' , K , 'is:', error)"
   ]
  },
  {
   "cell_type": "code",
   "execution_count": 70,
   "metadata": {},
   "outputs": [
    {
     "data": {
      "text/plain": [
       "<matplotlib.axes._subplots.AxesSubplot at 0x29d373e4488>"
      ]
     },
     "execution_count": 70,
     "metadata": {},
     "output_type": "execute_result"
    },
    {
     "data": {
      "image/png": "[encoded data removed]",
      "text/plain": [
       "<Figure size 432x288 with 1 Axes>"
      ]
     },
     "metadata": {
      "needs_background": "light"
     },
     "output_type": "display_data"
    }
   ],
   "source": [
    "curve = pd.DataFrame(rmse_val)\n",
    "curve.plot()"
   ]
  },
  {
   "cell_type": "markdown",
   "metadata": {},
   "source": [
    "Se determina que con una profundidad de 15 es donde existe el menor error"
   ]
  },
  {
   "cell_type": "code",
   "execution_count": 73,
   "metadata": {},
   "outputs": [
    {
     "data": {
      "text/plain": [
       "DecisionTreeRegressor(ccp_alpha=0.0, criterion='mse', max_depth=30,\n",
       "                      max_features=None, max_leaf_nodes=None,\n",
       "                      min_impurity_decrease=0.0, min_impurity_split=None,\n",
       "                      min_samples_leaf=1, min_samples_split=2,\n",
       "                      min_weight_fraction_leaf=0.0, presort='deprecated',\n",
       "                      random_state=42, splitter='best')"
      ]
     },
     "execution_count": 73,
     "metadata": {},
     "output_type": "execute_result"
    }
   ],
   "source": [
    "X = data_properati_departamento[['surface_total_resc','surface_covered_resc','rooms_resc','bathrooms_resc','bedrooms_resc']]\n",
    "y = data_properati_departamento.price\n",
    "from sklearn.tree import DecisionTreeRegressor\n",
    "tree_regressor = DecisionTreeRegressor(max_depth=30, random_state=42)\n",
    "tree_regressor.fit(X,y)"
   ]
  },
  {
   "cell_type": "code",
   "execution_count": 74,
   "metadata": {},
   "outputs": [
    {
     "data": {
      "text/plain": [
       "0.8655541654239732"
      ]
     },
     "execution_count": 74,
     "metadata": {},
     "output_type": "execute_result"
    }
   ],
   "source": [
    "tree_regressor.score(X,y)"
   ]
  },
  {
   "cell_type": "markdown",
   "metadata": {},
   "source": [
    "Al usar un árbol de decisión con el nuevo data set y las nuevas variables en la variable X aumentó su score de 81% a 86%, y tamién éste modelo obtuvo un mejor puntaje que los modelos avanzados (Regresión con atributos polinómicos y Regularización), por lo tanto yo utilizaría el modelo de árboles de decisión.\n",
    "Se utilizaron estos parámetros ya que son los que tienen una mayor correlación entre el precio y la misma variable."
   ]
  },
  {
   "cell_type": "markdown",
   "metadata": {},
   "source": [
    "# Parte C Proyecto 2"
   ]
  },
  {
   "cell_type": "markdown",
   "metadata": {},
   "source": [
    "Se puede observar que las variables que son relevantes para los modelos es surface_total, surface_covered y rooms ya que son las que están mas correlacionadas con el precio de la propiedad y en el modelo del proyecto anterior nos ayudo a hacer una estimación del precio. \n",
    "Según lo que se ve, las variables que no son tan relevantes es rooms y bathrooms las cuales se utilzaron y no mejoraron el modelo que se tenía anteriormente.\n"
   ]
  },
  {
   "cell_type": "markdown",
   "metadata": {},
   "source": [
    "En el modelo de árbol de decisión se puede observar que acierta en un 86% en donde tiene un menor error cuando existe una profundidad de 15 en donde existe un error de  47142.9. Se observa un mayor error es a una profundidad de 1 en donde existe un error 69063.83, obteniendo un score de 44%, y lo más seguro es que va a tener problemas de under fitting."
   ]
  },
  {
   "cell_type": "markdown",
   "metadata": {},
   "source": [
    "Sobre los resultados creo que es bueno el resultado utilizando el modelo de árbol de decisión después de implementar los cambios en el preprocesamiento de datos ya que se obtiene un mayor score con los datos transformados en comparación con el resultado obtenido en el proyecto 1. En el caso de los modelos avanzados se puede ver que los resultados no fueron muy buenos y que tal vez esos modelos o la transformación de los datos que se realizó no fue la más adecuada en este caso en particular.\n",
    "Sobre la metodología utilizada creo que fue adecuada ya que se hizo correctamente el preprocesamiento de los datos, la aplicación del modelo y la optimización de hiperparámetros. Mejoraría el preprocesamiento, creo que existen variables a las que se les pueden sacar provecho y que nos pueden ayudar a mejorar la predicción, y probaría con distintos modelos para poder comparar su rendimiento. "
   ]
  },
  {
   "cell_type": "code",
   "execution_count": null,
   "metadata": {},
   "outputs": [],
   "source": []
  }
 ],
 "metadata": {
  "colab": {
   "collapsed_sections": [],
   "name": "DS_Proyecto_01.ipynb",
   "provenance": []
  },
  "kernelspec": {
   "display_name": "Python 3",
   "language": "python",
   "name": "python3"
  },
  "language_info": {
   "codemirror_mode": {
    "name": "ipython",
    "version": 3
   },
   "file_extension": ".py",
   "mimetype": "text/x-python",
   "name": "python",
   "nbconvert_exporter": "python",
   "pygments_lexer": "ipython3",
   "version": "3.7.6"
  }
 },
 "nbformat": 4,
 "nbformat_minor": 1
}
